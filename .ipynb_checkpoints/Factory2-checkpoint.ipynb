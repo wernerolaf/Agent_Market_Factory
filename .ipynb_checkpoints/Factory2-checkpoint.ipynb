{
 "cells": [
  {
   "cell_type": "code",
   "execution_count": null,
   "metadata": {
    "colab": {
     "base_uri": "https://localhost:8080/"
    },
    "id": "ARAiHoxX6gMz",
    "outputId": "a00255f6-813b-4cbe-efeb-6c580486236e"
   },
   "outputs": [
    {
     "name": "stdout",
     "output_type": "stream",
     "text": [
      "Looking in indexes: https://pypi.org/simple, https://us-python.pkg.dev/colab-wheels/public/simple/\n",
      "Requirement already satisfied: spade in /usr/local/lib/python3.7/dist-packages (3.2.2)\n",
      "Requirement already satisfied: singletonify==0.2.3 in /usr/local/lib/python3.7/dist-packages (from spade) (0.2.3)\n",
      "Requirement already satisfied: jinja2==3.0.1 in /usr/local/lib/python3.7/dist-packages (from spade) (3.0.1)\n",
      "Requirement already satisfied: pyasn1-modules==0.2.7 in /usr/local/lib/python3.7/dist-packages (from spade) (0.2.7)\n",
      "Requirement already satisfied: aiohttp==3.7.4.post0 in /usr/local/lib/python3.7/dist-packages (from spade) (3.7.4.post0)\n",
      "Requirement already satisfied: aioxmpp>=0.12.2 in /usr/local/lib/python3.7/dist-packages (from spade) (0.13.2)\n",
      "Requirement already satisfied: jinja2-time==0.2.0 in /usr/local/lib/python3.7/dist-packages (from spade) (0.2.0)\n",
      "Requirement already satisfied: pyasn1==0.4.7 in /usr/local/lib/python3.7/dist-packages (from spade) (0.4.7)\n",
      "Requirement already satisfied: timeago==1.0.8 in /usr/local/lib/python3.7/dist-packages (from spade) (1.0.8)\n",
      "Requirement already satisfied: aiohttp-jinja2==1.4.2 in /usr/local/lib/python3.7/dist-packages (from spade) (1.4.2)\n",
      "Requirement already satisfied: multidict==4.5.2 in /usr/local/lib/python3.7/dist-packages (from spade) (4.5.2)\n",
      "Requirement already satisfied: typing-extensions>=3.6.5 in /usr/local/lib/python3.7/dist-packages (from aiohttp==3.7.4.post0->spade) (4.2.0)\n",
      "Requirement already satisfied: chardet<5.0,>=2.0 in /usr/local/lib/python3.7/dist-packages (from aiohttp==3.7.4.post0->spade) (3.0.4)\n",
      "Requirement already satisfied: async-timeout<4.0,>=3.0 in /usr/local/lib/python3.7/dist-packages (from aiohttp==3.7.4.post0->spade) (3.0.1)\n",
      "Requirement already satisfied: attrs>=17.3.0 in /usr/local/lib/python3.7/dist-packages (from aiohttp==3.7.4.post0->spade) (21.4.0)\n",
      "Requirement already satisfied: yarl<2.0,>=1.0 in /usr/local/lib/python3.7/dist-packages (from aiohttp==3.7.4.post0->spade) (1.7.2)\n",
      "Requirement already satisfied: MarkupSafe>=2.0 in /usr/local/lib/python3.7/dist-packages (from jinja2==3.0.1->spade) (2.0.1)\n",
      "Requirement already satisfied: arrow in /usr/local/lib/python3.7/dist-packages (from jinja2-time==0.2.0->spade) (1.2.2)\n",
      "Requirement already satisfied: sortedcollections~=2.1 in /usr/local/lib/python3.7/dist-packages (from aioxmpp>=0.12.2->spade) (2.1.0)\n",
      "Requirement already satisfied: dnspython<3.0,>=1.0 in /usr/local/lib/python3.7/dist-packages (from aioxmpp>=0.12.2->spade) (2.2.1)\n",
      "Requirement already satisfied: aioopenssl>=0.1 in /usr/local/lib/python3.7/dist-packages (from aioxmpp>=0.12.2->spade) (0.6.0)\n",
      "Requirement already satisfied: lxml~=4.0 in /usr/local/lib/python3.7/dist-packages (from aioxmpp>=0.12.2->spade) (4.2.6)\n",
      "Requirement already satisfied: babel~=2.3 in /usr/local/lib/python3.7/dist-packages (from aioxmpp>=0.12.2->spade) (2.10.1)\n",
      "Requirement already satisfied: pyOpenSSL in /usr/local/lib/python3.7/dist-packages (from aioxmpp>=0.12.2->spade) (22.0.0)\n",
      "Requirement already satisfied: aiosasl>=0.3 in /usr/local/lib/python3.7/dist-packages (from aioxmpp>=0.12.2->spade) (0.5.0)\n",
      "Requirement already satisfied: tzlocal>=1.2 in /usr/local/lib/python3.7/dist-packages (from aioxmpp>=0.12.2->spade) (1.5.1)\n",
      "Requirement already satisfied: pytz>=2015.7 in /usr/local/lib/python3.7/dist-packages (from babel~=2.3->aioxmpp>=0.12.2->spade) (2022.1)\n",
      "Requirement already satisfied: sortedcontainers in /usr/local/lib/python3.7/dist-packages (from sortedcollections~=2.1->aioxmpp>=0.12.2->spade) (2.4.0)\n",
      "Requirement already satisfied: idna>=2.0 in /usr/local/lib/python3.7/dist-packages (from yarl<2.0,>=1.0->aiohttp==3.7.4.post0->spade) (2.10)\n",
      "Requirement already satisfied: python-dateutil>=2.7.0 in /usr/local/lib/python3.7/dist-packages (from arrow->jinja2-time==0.2.0->spade) (2.8.2)\n",
      "Requirement already satisfied: six>=1.5 in /usr/local/lib/python3.7/dist-packages (from python-dateutil>=2.7.0->arrow->jinja2-time==0.2.0->spade) (1.15.0)\n",
      "Requirement already satisfied: cryptography>=35.0 in /usr/local/lib/python3.7/dist-packages (from pyOpenSSL->aioxmpp>=0.12.2->spade) (37.0.2)\n",
      "Requirement already satisfied: cffi>=1.12 in /usr/local/lib/python3.7/dist-packages (from cryptography>=35.0->pyOpenSSL->aioxmpp>=0.12.2->spade) (1.15.0)\n",
      "Requirement already satisfied: pycparser in /usr/local/lib/python3.7/dist-packages (from cffi>=1.12->cryptography>=35.0->pyOpenSSL->aioxmpp>=0.12.2->spade) (2.21)\n"
     ]
    }
   ],
   "source": [
    "!pip install spade"
   ]
  },
  {
   "cell_type": "code",
   "execution_count": null,
   "metadata": {
    "id": "AzOWDE2J3uy5"
   },
   "outputs": [],
   "source": [
    "import time\n",
    "from spade.agent import Agent\n",
    "from spade.behaviour import CyclicBehaviour, PeriodicBehaviour, OneShotBehaviour, FSMBehaviour, State\n",
    "from spade.message import Message\n",
    "from spade.template import Template\n",
    "import json\n",
    "import asyncio\n",
    "import matplotlib.pyplot as plt\n",
    "from random import random"
   ]
  },
  {
   "cell_type": "code",
   "execution_count": null,
   "metadata": {
    "colab": {
     "base_uri": "https://localhost:8080/"
    },
    "id": "tYeqavFt3uy9",
    "outputId": "21b26ae0-e0ec-4ac5-8e9e-b64534e955bd"
   },
   "outputs": [
    {
     "name": "stdout",
     "output_type": "stream",
     "text": [
      "Today's date: 2022-06-05 14:32:03.346675\n"
     ]
    }
   ],
   "source": [
    "from datetime import datetime\n",
    "\n",
    "today = datetime.today()\n",
    "print(\"Today's date:\", today)"
   ]
  },
  {
   "cell_type": "code",
   "execution_count": null,
   "metadata": {
    "colab": {
     "base_uri": "https://localhost:8080/"
    },
    "id": "NV9O-kHf3uzB",
    "outputId": "c2e44a82-ed3a-4c1e-998a-b4105753d388"
   },
   "outputs": [
    {
     "data": {
      "text/plain": [
       "datetime.datetime(2022, 6, 5, 14, 32, 3, 346675)"
      ]
     },
     "execution_count": 70,
     "metadata": {},
     "output_type": "execute_result"
    }
   ],
   "source": [
    "today"
   ]
  },
  {
   "cell_type": "code",
   "execution_count": null,
   "metadata": {
    "id": "glkZOaHm3uzD"
   },
   "outputs": [],
   "source": [
    "password=\"Secret777\""
   ]
  },
  {
   "cell_type": "code",
   "execution_count": null,
   "metadata": {
    "id": "TsRxqQVm3uzE"
   },
   "outputs": [],
   "source": [
    "jid =\"SystemAgent@jabbim.pl\""
   ]
  },
  {
   "cell_type": "code",
   "execution_count": null,
   "metadata": {
    "colab": {
     "base_uri": "https://localhost:8080/"
    },
    "id": "b8mssgsF7PWW",
    "outputId": "7f330401-5646-49fb-8185-9e355c7d3859"
   },
   "outputs": [
    {
     "data": {
      "text/plain": [
       "0.9305123770746048"
      ]
     },
     "execution_count": 73,
     "metadata": {},
     "output_type": "execute_result"
    }
   ],
   "source": [
    "random()"
   ]
  },
  {
   "cell_type": "code",
   "execution_count": null,
   "metadata": {
    "id": "ZAFBlQap3uzL"
   },
   "outputs": [],
   "source": [
    "class Stock():\n",
    "\n",
    "    def __init__(self,agent_magazines):\n",
    "        self.agent_magazines=agent_magazines\n",
    "\n",
    "    def notify(self,agent,timestamp,magazine):\n",
    "        self.agent_magazines[agent].append((timestamp,magazine.copy()))"
   ]
  },
  {
   "cell_type": "code",
   "execution_count": null,
   "metadata": {
    "id": "lY05xA4C3uzG"
   },
   "outputs": [],
   "source": [
    "class MachineAgent(Agent):\n",
    "\n",
    "    def __init__(self, jid: str, password: str, verify_security: bool, inputs, outputs, providers, magazine, production_time,item_prices,euro, stock, maintainers):\n",
    "        self.inputs=inputs\n",
    "        self.outputs=outputs\n",
    "        self.Providers=providers\n",
    "        self.magazine=magazine\n",
    "        self.Maintainers=maintainers\n",
    "        self.production_time=production_time\n",
    "        self.item_prices=item_prices\n",
    "        self.euro=euro\n",
    "        self.needed={item:self.inputs[item]-self.magazine[item] for item in self.inputs if self.magazine[item]<self.inputs[item]}\n",
    "        self.start_production=True\n",
    "        self.working_status=True\n",
    "        self.Stock=stock\n",
    "        super().__init__(jid, password, verify_security=verify_security)\n",
    "\n",
    "    class ProduceBehav(CyclicBehaviour):\n",
    "        async def run(self):\n",
    "            await asyncio.sleep(1)\n",
    "            self.agent.needed={item:self.agent.inputs[item]-self.agent.magazine[item] for item in self.agent.inputs if self.agent.magazine[item]<self.agent.inputs[item]}\n",
    "            if(random()<0.5 or self.agent.working_status==False):\n",
    "              \n",
    "              if self.agent.working_status:\n",
    "                print(\"broken\")\n",
    "              self.agent.working_status=False\n",
    "              for maintainer in self.agent.Maintainers:\n",
    "                msg = Message(to=maintainer)\n",
    "                msg.set_metadata(\"repair\", \"request\")\n",
    "                await self.send(msg)\n",
    "                print(\"can you repair me?\")\n",
    "                msg = await self.receive(timeout=10)\n",
    "                if msg:\n",
    "                  if msg.get_metadata(\"repair\")==\"accepted\":\n",
    "                    print(\"waiting for repair\")     \n",
    "                    msg = await self.receive(timeout=10)\n",
    "                    if msg:\n",
    "                      print(msg.get_metadata(\"repair\"))\n",
    "                      if msg.get_metadata(\"repair\")==\"machine\":\n",
    "                          self.agent.working_status=True\n",
    "                          print(\"Thank you\")\n",
    "                          break\n",
    "                      else:\n",
    "                        print(\"wrong_message: \"+msg.get_metadata(\"repair\"))\n",
    "                else:\n",
    "                  print(\"acceptation not received\")\n",
    "                \n",
    "            if self.agent.start_production and self.agent.working_status and len(self.agent.needed)==0:\n",
    "                #print(\"start_production: \"+str(self.agent.jid))\n",
    "                await asyncio.sleep(self.agent.production_time)\n",
    "                for item in self.agent.inputs:\n",
    "                    self.agent.magazine[item]=self.agent.magazine[item]-self.agent.inputs[item]\n",
    "                for item in self.agent.outputs:\n",
    "                    self.agent.magazine[item]=self.agent.magazine[item]+self.agent.outputs[item]\n",
    "\n",
    "                self.agent.Stock.notify(str(self.agent.jid),datetime.today(),self.agent.magazine)\n",
    "            #self.agent.start_production=False\n",
    "\n",
    "    class BuyBehav(CyclicBehaviour):\n",
    "        async def run(self):\n",
    "            propositions_list=[]\n",
    "            if len(self.agent.needed)>0:\n",
    "                for item in self.agent.needed:\n",
    "                    for Provider in self.agent.Providers[item]:\n",
    "                        msg = Message(to=Provider)\n",
    "                        msg.set_metadata(\"buy\", \"order\")\n",
    "                        msg.body = json.dumps({\"item\": item,\"quantity\":str(self.agent.needed[item])})\n",
    "                        await self.send(msg)\n",
    "                        #print(Provider+\" please \"+item)\n",
    "                        \n",
    "                    \n",
    "                    while len(propositions_list)<len(self.agent.Providers[item]):\n",
    "                        msg = await self.receive(timeout=10)\n",
    "                        propositions_list.append(msg)\n",
    "                    \n",
    "                    best_price=100000\n",
    "                    best_proposition=None\n",
    "                    for msg in propositions_list:\n",
    "                        if msg:\n",
    "                          if msg.get_metadata(\"sell\")==\"proposition\":\n",
    "                            #print(\"Message received with content: {}\".format(msg.body))\n",
    "                            body = json.loads(msg.body)\n",
    "                            get_item = body[\"item\"]\n",
    "                            get_payment = int(body[\"payment\"])\n",
    "                            if get_payment<best_price:\n",
    "                                best_proposition=msg\n",
    "                                best_price=get_payment\n",
    "                                \n",
    "                    if best_proposition:\n",
    "                        msg = Message(to=str(best_proposition.sender))\n",
    "                        msg.set_metadata(\"buy\", \"payment\")\n",
    "                        if item in self.agent.needed.keys():\n",
    "                            msg.body = json.dumps({\"item\": item, \"quantity\":str(self.agent.needed[item]),\"payment\":str(best_price)})\n",
    "                            self.agent.euro-=best_price\n",
    "                            await self.send(msg)\n",
    "\n",
    "                            msg = await self.receive(timeout=10)\n",
    "\n",
    "                            body = json.loads(msg.body)\n",
    "                            get_item = body[\"item\"]\n",
    "                            get_quantity = int(body[\"quantity\"])\n",
    "\n",
    "                            self.agent.magazine[item]=self.agent.magazine[item]+get_quantity\n",
    "                            self.agent.Stock.notify(str(self.agent.jid),datetime.today(),self.agent.magazine)\n",
    "\n",
    "\n",
    "    class SellBehav(CyclicBehaviour):\n",
    "        async def run(self):\n",
    "            await asyncio.sleep(1)\n",
    "            msg = await self.receive(timeout=10)\n",
    "            if msg:\n",
    "                get_type=msg.get_metadata(\"buy\")\n",
    "                body = json.loads(msg.body)\n",
    "                get_item = body[\"item\"]\n",
    "                get_quantity = int(body[\"quantity\"])\n",
    "                if get_type==\"order\":\n",
    "                    if self.agent.magazine[get_item]>=get_quantity:\n",
    "                        msg = Message(to=str(msg.sender))\n",
    "                        msg.set_metadata(\"sell\", \"proposition\")\n",
    "                        msg.body = json.dumps({\"item\": get_item,\"payment\":str(self.agent.item_prices[get_item]*get_quantity)})\n",
    "                        await self.send(msg)\n",
    "                    else:\n",
    "                        msg = Message(to=str(msg.sender))\n",
    "                        msg.set_metadata(\"sell\", \"decline\")\n",
    "                        msg.body = json.dumps({\"item\": get_item, \"quantity\":0})\n",
    "                        await self.send(msg)\n",
    "                        #print(\"no item now\")\n",
    "                        self.agent.start_production=True\n",
    "                        \n",
    "                if get_type==\"payment\":\n",
    "                    get_payment = int(body[\"payment\"])\n",
    "                    self.agent.euro+=get_payment\n",
    "                    self.agent.magazine[get_item]=self.agent.magazine[get_item]-get_quantity\n",
    "                    self.agent.Stock.notify(str(self.agent.jid),datetime.today(),self.agent.magazine)\n",
    "                    msg = Message(to=str(msg.sender))\n",
    "                    msg.set_metadata(\"sell\", \"product\")\n",
    "                    msg.body = json.dumps({\"item\": get_item,\"quantity\":str(get_quantity)})\n",
    "                    await self.send(msg)\n",
    "                    \n",
    "            else:\n",
    "                print(\"waiting for sell\")\n",
    "\n",
    "    async def setup(self):\n",
    "        print(f\"MachineAgent started at {datetime.now().time()}\")\n",
    "        t_repair = Template()\n",
    "        t_repair.set_metadata(\"repair\", \"machine\")\n",
    "        t_repair_decline = Template()\n",
    "        t_repair_decline.set_metadata(\"repair\", \"declined\")\n",
    "        t_repair_accepted = Template()\n",
    "        t_repair_accepted.set_metadata(\"repair\", \"accepted\")\n",
    "        t_product = Template()\n",
    "        t_product.set_metadata(\"sell\", \"product\")\n",
    "        t_decline = Template()\n",
    "        t_decline.set_metadata(\"sell\", \"decline\")\n",
    "        t_proposition = Template()\n",
    "        t_proposition.set_metadata(\"sell\", \"proposition\")\n",
    "        t_order = Template()\n",
    "        t_order.set_metadata(\"buy\", \"order\")\n",
    "        t_payment = Template()\n",
    "        t_payment.set_metadata(\"buy\", \"payment\")\n",
    "        self.p = self.ProduceBehav()\n",
    "        self.add_behaviour(self.p,t_repair | t_repair_decline | t_repair_accepted)\n",
    "        self.b = self.BuyBehav()\n",
    "        self.add_behaviour(self.b,t_product | t_decline | t_proposition)\n",
    "        self.s = self.SellBehav()\n",
    "        self.add_behaviour(self.s,t_payment | t_order)\n",
    "        await asyncio.sleep(5)"
   ]
  },
  {
   "cell_type": "code",
   "execution_count": null,
   "metadata": {
    "id": "MLz1m1OC3uzO"
   },
   "outputs": [],
   "source": [
    "class MaintenanceAgent(Agent):\n",
    "    def __init__(self, jid: str, password: str, verify_security: bool, repair_time):\n",
    "        self.repair_time=repair_time\n",
    "        self.busy=False\n",
    "        self.client=None\n",
    "        super().__init__(jid, password, verify_security=verify_security)\n",
    "    \n",
    "\n",
    "    class RepairBehav(CyclicBehaviour):\n",
    "      async def run(self):\n",
    "            await asyncio.sleep(1)\n",
    "            #print(self.agent.client)\n",
    "            if self.agent.busy and self.agent.client!=None:\n",
    "              await asyncio.sleep(self.agent.repair_time)\n",
    "              msg = Message(to=self.agent.client)\n",
    "              msg.set_metadata(\"repair\", \"machine\")\n",
    "              print(\"Repairing \"+self.agent.client)\n",
    "              await self.send(msg)\n",
    "              self.agent.busy=False\n",
    "\n",
    "    class ListenBehav(CyclicBehaviour):\n",
    "        async def run(self):\n",
    "            await asyncio.sleep(1)\n",
    "            msg = await self.receive(timeout=10)\n",
    "            if msg:\n",
    "              if msg.get_metadata(\"repair\") and self.agent.busy==False:\n",
    "                  print(\"repair accepted\")\n",
    "                  self.agent.client=str(msg.sender)\n",
    "                  msg = Message(to=str(msg.sender))\n",
    "                  msg.set_metadata(\"repair\", \"accepted\")\n",
    "                  await self.send(msg)\n",
    "                  self.agent.busy=True\n",
    "              else:\n",
    "                  msg = Message(to=str(msg.sender))\n",
    "                  msg.set_metadata(\"repair\", \"declined\")\n",
    "                  await self.send(msg)\n",
    "\n",
    "    async def setup(self):\n",
    "        print(f\"MachineAgent started at {datetime.now().time()}\")\n",
    "        t_repair = Template()\n",
    "        t_repair.set_metadata(\"repair\", \"request\")\n",
    "        self.l = self.ListenBehav()\n",
    "        self.add_behaviour(self.l,t_repair)\n",
    "        self.r = self.RepairBehav()\n",
    "        self.add_behaviour(self.r)"
   ]
  },
  {
   "cell_type": "code",
   "execution_count": null,
   "metadata": {
    "colab": {
     "base_uri": "https://localhost:8080/"
    },
    "id": "mF2FsH3G3uzT",
    "outputId": "30600b18-af8e-4717-b016-e3a1cb2be494"
   },
   "outputs": [
    {
     "name": "stdout",
     "output_type": "stream",
     "text": [
      "MachineAgent started at 16:22:27.799773\n",
      "MachineAgent started at 16:22:28.055789\n",
      "MachineAgent started at 16:22:28.074556\n",
      "MachineAgent started at 16:22:28.162662\n",
      "broken\n",
      "can you repair me?\n",
      "repair accepted\n",
      "waiting for repair\n",
      "broken\n",
      "can you repair me?\n",
      "broken\n",
      "can you repair me?\n",
      "can you repair me?\n",
      "can you repair me?\n",
      "Repairing systemagent@jabbim.pl/3\n",
      "machine\n",
      "Thank you\n",
      "repair accepted\n",
      "waiting for repair\n",
      "can you repair me?\n",
      "can you repair me?\n",
      "can you repair me?\n",
      "Repairing systemagent@jabbim.pl/1\n",
      "machine\n",
      "Thank you\n",
      "can you repair me?\n",
      "repair accepted\n",
      "waiting for repair\n",
      "broken\n",
      "can you repair me?\n",
      "waiting for sell\n",
      "can you repair me?\n",
      "Repairing systemagent@jabbim.pl/2\n",
      "broken\n",
      "can you repair me?\n",
      "machine\n",
      "Thank you\n",
      "repair accepted\n",
      "can you repair me?\n",
      "waiting for repair\n",
      "can you repair me?\n",
      "can you repair me?\n",
      "Repairing systemagent@jabbim.pl/1\n",
      "machine\n",
      "Thank you\n",
      "can you repair me?\n",
      "repair accepted\n",
      "waiting for repair\n",
      "broken\n",
      "can you repair me?\n"
     ]
    },
    {
     "name": "stderr",
     "output_type": "stream",
     "text": [
      "No behaviour matched for message: <message to=\"systemagent@jabbim.pl/4\" from=\"systemagent@jabbim.pl/1\" thread=\"None\" metadata={'repair': 'request'}></message>\n"
     ]
    },
    {
     "name": "stdout",
     "output_type": "stream",
     "text": [
      "Repairing systemagent@jabbim.pl/3\n",
      "machine\n",
      "Thank you\n",
      "broken\n",
      "can you repair me?\n",
      "repair accepted\n",
      "can you repair me?\n",
      "waiting for repair\n"
     ]
    }
   ],
   "source": [
    "if __name__ == \"__main__\":\n",
    "    stock=Stock({str.lower(jid+\"/1\"):[],str.lower(jid+\"/2\"):[],str.lower(jid+\"/3\"):[]})\n",
    "\n",
    "    agent1 = MachineAgent(jid+\"/1\", password, False,{\"coffe\":2,\"milk\":1},{\"cappucino\":1},{\"coffe\":[],\"milk\":[jid+\"/2\",jid+\"/3\"]},{\"coffe\":40,\"milk\":0,\"cappucino\":0},2,{},200,stock,[jid+\"/4\"])\n",
    "    \n",
    "    agent2 = MachineAgent(jid+\"/2\", password, False,{\"magic\":0},{\"milk\":1},{\"milk\":[jid+\"/2\"]},{\"magic\":0,\"milk\":0},3,{\"milk\":30},0,stock,[jid+\"/4\"])\n",
    "    \n",
    "    agent3 = MachineAgent(jid+\"/3\", password, False,{\"magic\":0},{\"milk\":1},{\"milk\":[jid+\"/3\"]},{\"magic\":0,\"milk\":0},1,{\"milk\":50},0,stock,[jid+\"/4\"])\n",
    "    \n",
    "    agent4 = MaintenanceAgent(jid+\"/4\", password, False, 3)\n",
    "    \n",
    "    try:\n",
    "        future = agent1.start()\n",
    "        agent2.start()\n",
    "        agent3.start()\n",
    "        agent4.start()\n",
    "        future.result()\n",
    "        #app.run(use_reloader=False)\n",
    "        time.sleep(20)\n",
    "    except Exception as e:\n",
    "        print(e)\n",
    "    finally:\n",
    "        agent1.stop()\n",
    "        agent2.stop()\n",
    "        agent3.stop()\n",
    "        agent4.stop()\n",
    "    \n",
    "    #app.run(use_reloader=False)"
   ]
  },
  {
   "cell_type": "code",
   "execution_count": null,
   "metadata": {
    "id": "bnZ9Wtdx3uzV"
   },
   "outputs": [],
   "source": [
    "\"milk\" in agent1.needed.keys()"
   ]
  },
  {
   "cell_type": "code",
   "execution_count": null,
   "metadata": {
    "id": "-5XLnNn93uzX"
   },
   "outputs": [],
   "source": [
    "agent1.euro"
   ]
  },
  {
   "cell_type": "code",
   "execution_count": null,
   "metadata": {
    "id": "SToPg3YX3uzY",
    "outputId": "1db453ac-f5bc-46a4-8453-bb5718ca289b"
   },
   "outputs": [
    {
     "data": {
      "text/plain": [
       "{'systemagent@jabbim.pl/1': [(datetime.datetime(2022, 6, 5, 14, 30, 9, 181454),\n",
       "   {'coffe': 40, 'milk': 1, 'cappucino': 0}),\n",
       "  (datetime.datetime(2022, 6, 5, 14, 30, 12, 181025),\n",
       "   {'coffe': 38, 'milk': 0, 'cappucino': 1}),\n",
       "  (datetime.datetime(2022, 6, 5, 14, 30, 14, 183427),\n",
       "   {'coffe': 38, 'milk': 1, 'cappucino': 1}),\n",
       "  (datetime.datetime(2022, 6, 5, 14, 30, 17, 181192),\n",
       "   {'coffe': 36, 'milk': 0, 'cappucino': 2}),\n",
       "  (datetime.datetime(2022, 6, 5, 14, 30, 19, 185481),\n",
       "   {'coffe': 36, 'milk': 1, 'cappucino': 2}),\n",
       "  (datetime.datetime(2022, 6, 5, 14, 30, 22, 180624),\n",
       "   {'coffe': 34, 'milk': 0, 'cappucino': 3})],\n",
       " 'systemagent@jabbim.pl/2': [(datetime.datetime(2022, 6, 5, 14, 30, 10, 180748),\n",
       "   {'magic': 0, 'milk': 1}),\n",
       "  (datetime.datetime(2022, 6, 5, 14, 30, 14, 180469), {'magic': 0, 'milk': 2}),\n",
       "  (datetime.datetime(2022, 6, 5, 14, 30, 14, 181496), {'magic': 0, 'milk': 1}),\n",
       "  (datetime.datetime(2022, 6, 5, 14, 30, 18, 180445), {'magic': 0, 'milk': 2}),\n",
       "  (datetime.datetime(2022, 6, 5, 14, 30, 19, 183484), {'magic': 0, 'milk': 1}),\n",
       "  (datetime.datetime(2022, 6, 5, 14, 30, 22, 180624),\n",
       "   {'magic': 0, 'milk': 2})],\n",
       " 'systemagent@jabbim.pl/3': [(datetime.datetime(2022, 6, 5, 14, 30, 8, 181254),\n",
       "   {'magic': 0, 'milk': 1}),\n",
       "  (datetime.datetime(2022, 6, 5, 14, 30, 9, 180485), {'magic': 0, 'milk': 0}),\n",
       "  (datetime.datetime(2022, 6, 5, 14, 30, 10, 180748), {'magic': 0, 'milk': 1}),\n",
       "  (datetime.datetime(2022, 6, 5, 14, 30, 12, 181025), {'magic': 0, 'milk': 2}),\n",
       "  (datetime.datetime(2022, 6, 5, 14, 30, 14, 180469), {'magic': 0, 'milk': 3}),\n",
       "  (datetime.datetime(2022, 6, 5, 14, 30, 16, 180373), {'magic': 0, 'milk': 4}),\n",
       "  (datetime.datetime(2022, 6, 5, 14, 30, 18, 180445), {'magic': 0, 'milk': 5}),\n",
       "  (datetime.datetime(2022, 6, 5, 14, 30, 20, 180427), {'magic': 0, 'milk': 6}),\n",
       "  (datetime.datetime(2022, 6, 5, 14, 30, 22, 180624),\n",
       "   {'magic': 0, 'milk': 7})]}"
      ]
     },
     "execution_count": 169,
     "metadata": {},
     "output_type": "execute_result"
    }
   ],
   "source": [
    "stock.agent_magazines"
   ]
  },
  {
   "cell_type": "code",
   "execution_count": null,
   "metadata": {
    "id": "sQjhzrXP3uzY",
    "outputId": "d9ca25b4-4b81-4b4f-a4ff-d88366198a6c"
   },
   "outputs": [
    {
     "name": "stdout",
     "output_type": "stream",
     "text": [
      "(datetime.datetime(2022, 6, 5, 14, 30, 8, 181254), {'magic': 0, 'milk': 1})\n",
      "(datetime.datetime(2022, 6, 5, 14, 30, 9, 180485), {'magic': 0, 'milk': 0})\n",
      "(datetime.datetime(2022, 6, 5, 14, 30, 10, 180748), {'magic': 0, 'milk': 1})\n",
      "(datetime.datetime(2022, 6, 5, 14, 30, 12, 181025), {'magic': 0, 'milk': 2})\n",
      "(datetime.datetime(2022, 6, 5, 14, 30, 14, 180469), {'magic': 0, 'milk': 3})\n",
      "(datetime.datetime(2022, 6, 5, 14, 30, 16, 180373), {'magic': 0, 'milk': 4})\n",
      "(datetime.datetime(2022, 6, 5, 14, 30, 18, 180445), {'magic': 0, 'milk': 5})\n",
      "(datetime.datetime(2022, 6, 5, 14, 30, 20, 180427), {'magic': 0, 'milk': 6})\n",
      "(datetime.datetime(2022, 6, 5, 14, 30, 22, 180624), {'magic': 0, 'milk': 7})\n"
     ]
    }
   ],
   "source": [
    "cf = stock.agent_magazines['systemagent@jabbim.pl/3']\n",
    "for x in cf:\n",
    " print(x)"
   ]
  },
  {
   "cell_type": "code",
   "execution_count": null,
   "metadata": {
    "id": "GadCdwe73uzR"
   },
   "outputs": [],
   "source": [
    "# es = ['https://codepen.io/chriddyp/pen/bWLwgP.css']\n",
    "\n",
    "# app = dash.Dash(__name__, external_stylesheets=es)\n",
    "# app.layout = html.Div(\n",
    "#     html.Div([\n",
    "#         html.H4('Factory UI'),\n",
    "#         html.H5('Items in Magazine'),\n",
    "#         html.Div(id='live-update-text'),\n",
    "#         dcc.Graph(id='live-update-graph'),\n",
    "#         dcc.Interval(\n",
    "#             id='interval-component',\n",
    "#             interval=1*1000, # in milliseconds\n",
    "#             n_intervals=0\n",
    "#         )\n",
    "#     ])\n",
    "# )\n",
    "\n",
    "# @app.callback(Output('live-update-text', 'children'),\n",
    "#               Input('interval-component', 'n_intervals'))\n",
    "# def update_metrics(n):\n",
    "#     #agent_magazines = satellite.get_lonlatalt(datetime.datetime.now())\n",
    "#     itemz = stock.agent_magazines\n",
    "#     #print(itemz)\n",
    "#     style = {'padding': '5px', 'fontSize': '16px'}\n",
    "#     #return [\n",
    "#     #    html.Span('Item: {%d}'.format(itemz), style=style)    \n",
    "#     #]\n",
    "#     k=[]\n",
    "#     for values in itemz.items():\n",
    "#         for i in values:\n",
    "#           k.append(i) \n",
    "  \n",
    "#     return k\n",
    "\n",
    "# @app.callback(Output('live-update-graph', 'figure'),\n",
    "#               Input('interval-component', 'n_intervals'))\n",
    "# def update_graph_live(n):\n",
    "#     #satellite = Orbital('TERRA')\n",
    "#     data = {\n",
    "#         'time': [],\n",
    "#         'cappucino': [],\n",
    "#         'milk': [],\n",
    "#         'coffe': []\n",
    "#     }\n",
    "\n",
    "#     data2 = {\n",
    "#         'time': [],\n",
    "#         'milk': []\n",
    "#     }\n",
    "\n",
    "#     data3 = {\n",
    "#         'time': [],\n",
    "#         'milk': []\n",
    "#     }\n",
    "#     # Collect some data\n",
    "#     #for i in range(180):\n",
    "#         #time = datetime.datetime.now() - datetime.timedelta(seconds=i*20)\n",
    "#     lists = stock.agent_magazines[\"systemagent@jabbim.pl/1\"]\n",
    "#     for elem in lists:\n",
    "#       data['cappucino'].append(elem[1]['cappucino'])\n",
    "#       data['milk'].append(elem[1]['milk'])\n",
    "#       data['coffe'].append(elem[1]['coffe'])\n",
    "#       data['time'].append(elem[0])\n",
    "\n",
    "#     lists2 = stock.agent_magazines[\"systemagent@jabbim.pl/2\"]\n",
    "#     for elem in lists2:\n",
    "#       data2['milk'].append(elem[1]['milk'])\n",
    "#       data2['time'].append(elem[0])\n",
    "\n",
    "#     lists3 = stock.agent_magazines[\"systemagent@jabbim.pl/3\"]\n",
    "#     for elem in lists3:\n",
    "#       data3['milk'].append(elem[1]['milk'])\n",
    "#       data3['time'].append(elem[0])\n",
    "\n",
    "#     # Create the graph with subplots\n",
    "#     fig = plotly.tools.make_subplots(rows=3, cols=1, vertical_spacing=0.3)\n",
    "#     fig['layout']['margin'] = {\n",
    "#         'l': 40, 'r': 20, 'b': 40, 't': 20\n",
    "#     }\n",
    "#     fig['layout']['legend'] = {'x': 0, 'y': 1, 'xanchor': 'left'}\n",
    "\n",
    "#     fig.append_trace({\n",
    "#         'x': data['time'],\n",
    "#         'y': data['milk'],\n",
    "#         'name': 'Milk',\n",
    "#         'mode': 'lines+markers',\n",
    "#         'type': 'scatter',\n",
    "#     }, 1, 1)\n",
    "#     fig.append_trace({\n",
    "#         'x': data['time'],\n",
    "#         'y': data['coffe'],\n",
    "#         'text': data['time'],\n",
    "#         'name': 'Coffee',\n",
    "#         'mode': 'lines+markers',\n",
    "#         'type': 'scatter'\n",
    "#     }, 1, 1)\n",
    "#     fig.append_trace({\n",
    "#         'x': data['time'],\n",
    "#         'y': data['cappucino'],\n",
    "#         'name': 'Cappucino',\n",
    "#         'mode': 'lines+markers',\n",
    "#         'type': 'scatter',\n",
    "#     }, 1, 1)\n",
    "#     fig.append_trace({\n",
    "#         'x': data2['time'],\n",
    "#         'y': data2['milk'],\n",
    "#         'name':'Milk Seller 1',\n",
    "#         'mode': 'lines+markers',\n",
    "#         'type': 'scatter',\n",
    "#     }, 2, 1)\n",
    "#     fig.append_trace({\n",
    "#         'x': data3['time'],\n",
    "#         'y': data3['milk'],\n",
    "#         'name':'Milk Seller 2',\n",
    "#         'mode': 'lines+markers',\n",
    "#         'type': 'scatter',\n",
    "#     }, 3, 1)\n",
    "\n",
    "\n",
    "#     fig.update_xaxes(title_text=\"time\", row=1, col=1)\n",
    "#     fig.update_yaxes(title_text=\"Items Count\", row=1, col=1)\n",
    "\n",
    "#     #fig.update_layout(title_text=\"Items in magazine\", height=900)\n",
    "\n",
    "\n",
    "#     return fig"
   ]
  },
  {
   "cell_type": "code",
   "execution_count": null,
   "metadata": {
    "id": "4SejJe8f3uzZ",
    "outputId": "45d4effe-a76d-4abe-8bab-083f074aa7a3"
   },
   "outputs": [
    {
     "data": {
      "image/png": "[encoded data removed]",
      "text/plain": [
       "<Figure size 432x288 with 1 Axes>"
      ]
     },
     "metadata": {
      "needs_background": "light"
     },
     "output_type": "display_data"
    }
   ],
   "source": [
    "a = stock.agent_magazines['systemagent@jabbim.pl/1']\n",
    "\n",
    "\n",
    "x1=[]\n",
    "\n",
    "y1=[]\n",
    "\n",
    "y2=[]\n",
    "\n",
    "y3=[]\n",
    "\n",
    "\n",
    "\n",
    "for elem in a:\n",
    "\n",
    "  x1.append(elem[0])\n",
    "\n",
    "  y1.append(elem[1]['coffe'])\n",
    "\n",
    "  y2.append(elem[1]['cappucino'])\n",
    "\n",
    "  y3.append(elem[1]['milk'])\n",
    "\n",
    "\n",
    "\n",
    "\n",
    "plt.plot(x1, y1,color='red')\n",
    "\n",
    "plt.plot(x1, y2,color='green')\n",
    "\n",
    "plt.plot(x1, y3,color='blue')\n",
    "\n",
    " \n",
    "\n",
    "# naming the x axis\n",
    "\n",
    "plt.xlabel('Time')\n",
    "\n",
    "# naming the y axis\n",
    "\n",
    "plt.ylabel('Quantity')\n",
    "\n",
    " \n",
    "\n",
    "# giving a title to my graph\n",
    "\n",
    "plt.title('Time vs Quantity!')\n",
    "\n",
    "# plt.xticks(x1, x1[::3], rotation='horizontal') # set divisor\n",
    "\n",
    "# plt.locator_params(axis='x', nbins=len(x1)/3)  # set divisor\n",
    "\n",
    "# function to show the plot\n",
    "plt.legend(('Coffee','Cappucino','Milk'),loc='upper right')\n",
    "plt.show()"
   ]
  },
  {
   "cell_type": "code",
   "execution_count": null,
   "metadata": {
    "id": "WcRyzGQJ3uzb",
    "outputId": "6ab722b0-2a6b-4620-ff65-2e74319cb961"
   },
   "outputs": [
    {
     "data": {
      "image/png": "[encoded data removed]",
      "text/plain": [
       "<Figure size 432x288 with 1 Axes>"
      ]
     },
     "metadata": {
      "needs_background": "light"
     },
     "output_type": "display_data"
    }
   ],
   "source": [
    "a = stock.agent_magazines['systemagent@jabbim.pl/2']\n",
    "\n",
    "\n",
    "x1=[]\n",
    "\n",
    "y1=[]\n",
    "\n",
    "\n",
    "\n",
    "\n",
    "for elem in a:\n",
    "\n",
    "  x1.append(elem[0])\n",
    "\n",
    "  y1.append(elem[1]['milk'])\n",
    "\n",
    "\n",
    "\n",
    "\n",
    "\n",
    "\n",
    "plt.plot(x1, y1,color='red')\n",
    "\n",
    "\n",
    "\n",
    " \n",
    "\n",
    "# naming the x axis\n",
    "\n",
    "plt.xlabel('Time')\n",
    "\n",
    "# naming the y axis\n",
    "\n",
    "plt.ylabel('Quantity')\n",
    "\n",
    " \n",
    "\n",
    "# giving a title to my graph\n",
    "\n",
    "plt.title('Time vs Quantity!')\n",
    "\n",
    "# plt.xticks(x1, x1[::3], rotation='horizontal') # set divisor\n",
    "\n",
    "# plt.locator_params(axis='x', nbins=len(x1)/3)  # set divisor\n",
    "\n",
    "# function to show the plot\n",
    "plt.legend(('Milk'),loc='upper right')\n",
    "plt.show()"
   ]
  },
  {
   "cell_type": "code",
   "execution_count": null,
   "metadata": {
    "id": "5AmENcKl3uzd",
    "outputId": "2644325e-aba3-433e-bae4-18c7d0c2edd0"
   },
   "outputs": [
    {
     "name": "stdout",
     "output_type": "stream",
     "text": [
      "sending product\n",
      "thank you systemagent@jabbim.pl/2\n"
     ]
    },
    {
     "data": {
      "image/png": "[encoded data removed]",
      "text/plain": [
       "<Figure size 432x288 with 1 Axes>"
      ]
     },
     "metadata": {
      "needs_background": "light"
     },
     "output_type": "display_data"
    },
    {
     "name": "stdout",
     "output_type": "stream",
     "text": [
      "waiting for sell\n",
      "waiting for sell\n"
     ]
    }
   ],
   "source": [
    "a = stock.agent_magazines['systemagent@jabbim.pl/3']\n",
    "\n",
    "\n",
    "x1=[]\n",
    "\n",
    "y1=[]\n",
    "\n",
    "\n",
    "\n",
    "\n",
    "for elem in a:\n",
    "\n",
    "  x1.append(elem[0])\n",
    "\n",
    "  y1.append(elem[1]['milk'])\n",
    "\n",
    "\n",
    "\n",
    "\n",
    "\n",
    "\n",
    "plt.plot(x1, y1,color='red')\n",
    "\n",
    "\n",
    "\n",
    " \n",
    "\n",
    "# naming the x axis\n",
    "\n",
    "plt.xlabel('Time')\n",
    "\n",
    "# naming the y axis\n",
    "\n",
    "plt.ylabel('Quantity')\n",
    "\n",
    " \n",
    "\n",
    "# giving a title to my graph\n",
    "\n",
    "plt.title('Time vs Quantity!')\n",
    "\n",
    "# plt.xticks(x1, x1[::3], rotation='horizontal') # set divisor\n",
    "\n",
    "# plt.locator_params(axis='x', nbins=len(x1)/3)  # set divisor\n",
    "\n",
    "# function to show the plot\n",
    "plt.legend(('Milk'),loc='upper right')\n",
    "plt.show()"
   ]
  },
  {
   "cell_type": "code",
   "execution_count": null,
   "metadata": {
    "id": "y62H_rN23uzM"
   },
   "outputs": [],
   "source": [
    "import dash\n",
    "from dash import dcc, html\n",
    "import plotly\n",
    "from dash.dependencies import Input, Output"
   ]
  }
 ],
 "metadata": {
  "colab": {
   "collapsed_sections": [],
   "name": "Factory.ipynb",
   "provenance": []
  },
  "interpreter": {
   "hash": "1e877cd6d0b5baae0559b60b2a95c4c78819595ced69d0e75ff6e98aa30e4d47"
  },
  "kernelspec": {
   "display_name": "Python 3",
   "language": "python",
   "name": "python3"
  },
  "language_info": {
   "codemirror_mode": {
    "name": "ipython",
    "version": 3
   },
   "file_extension": ".py",
   "mimetype": "text/x-python",
   "name": "python",
   "nbconvert_exporter": "python",
   "pygments_lexer": "ipython3",
   "version": "3.8.5"
  }
 },
 "nbformat": 4,
 "nbformat_minor": 1
}
