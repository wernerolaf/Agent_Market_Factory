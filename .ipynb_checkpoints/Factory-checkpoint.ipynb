{
 "cells": [
  {
   "cell_type": "code",
   "execution_count": 2,
   "metadata": {},
   "outputs": [],
   "source": [
    "import time\n",
    "from spade.agent import Agent\n",
    "from spade.behaviour import CyclicBehaviour, PeriodicBehaviour, OneShotBehaviour, FSMBehaviour, State\n",
    "from spade.message import Message\n",
    "from spade.template import Template\n",
    "import json\n",
    "import asyncio"
   ]
  },
  {
   "cell_type": "code",
   "execution_count": 3,
   "metadata": {},
   "outputs": [
    {
     "name": "stdout",
     "output_type": "stream",
     "text": [
      "Today's date: 2022-05-25 21:54:25.397893\n"
     ]
    }
   ],
   "source": [
    "from datetime import datetime\n",
    "\n",
    "today = datetime.today()\n",
    "print(\"Today's date:\", today)"
   ]
  },
  {
   "cell_type": "code",
   "execution_count": 4,
   "metadata": {},
   "outputs": [
    {
     "data": {
      "text/plain": [
       "datetime.datetime(2022, 5, 25, 21, 54, 25, 397893)"
      ]
     },
     "execution_count": 4,
     "metadata": {},
     "output_type": "execute_result"
    }
   ],
   "source": [
    "today"
   ]
  },
  {
   "cell_type": "code",
   "execution_count": 5,
   "metadata": {},
   "outputs": [],
   "source": [
    "password=\"Secret777\""
   ]
  },
  {
   "cell_type": "code",
   "execution_count": 6,
   "metadata": {},
   "outputs": [],
   "source": [
    "jid =\"SystemAgent@jabbim.pl\""
   ]
  },
  {
   "cell_type": "code",
   "execution_count": 50,
   "metadata": {},
   "outputs": [],
   "source": [
    "class MachineAgent(Agent):\n",
    "\n",
    "    def __init__(self, jid: str, password: str, verify_security: bool, inputs, outputs, providers, magazine, production_time,item_prices,euro, stock):\n",
    "        self.inputs=inputs\n",
    "        self.outputs=outputs\n",
    "        self.Providers=providers\n",
    "        self.magazine=magazine\n",
    "        self.production_time=production_time\n",
    "        self.item_prices=item_prices\n",
    "        self.euro=euro\n",
    "        self.needed={item:self.inputs[item]-self.magazine[item] for item in self.inputs if self.magazine[item]<self.inputs[item]}\n",
    "        self.start_production=True\n",
    "        self.Stock=stock\n",
    "        super().__init__(jid, password, verify_security=verify_security)\n",
    "\n",
    "    class ProduceBehav(CyclicBehaviour):\n",
    "        async def run(self):\n",
    "            await asyncio.sleep(1)\n",
    "            self.agent.needed={item:self.agent.inputs[item]-self.agent.magazine[item] for item in self.agent.inputs if self.agent.magazine[item]<self.agent.inputs[item]}\n",
    "            if self.agent.start_production and len(self.agent.needed)==0:\n",
    "                print(\"start_production: \"+str(self.agent.jid))\n",
    "                await asyncio.sleep(self.agent.production_time)\n",
    "                for item in self.agent.inputs:\n",
    "                    self.agent.magazine[item]=self.agent.magazine[item]-self.agent.inputs[item]\n",
    "                for item in self.agent.outputs:\n",
    "                    self.agent.magazine[item]=self.agent.magazine[item]+self.agent.outputs[item]\n",
    "\n",
    "                self.agent.Stock.notify(str(self.agent.jid),datetime.today(),self.agent.magazine)\n",
    "            #self.agent.start_production=False\n",
    "\n",
    "    class BuyBehav(CyclicBehaviour):\n",
    "        async def on_start(self):\n",
    "            await asyncio.sleep(4)\n",
    "\n",
    "        async def run(self):\n",
    "            propositions_list=[]\n",
    "            if len(self.agent.needed)>0:\n",
    "                for item in self.agent.needed:\n",
    "                    for Provider in self.agent.Providers[item]:\n",
    "                        msg = Message(to=Provider)\n",
    "                        msg.set_metadata(\"buy\", \"order\")\n",
    "                        msg.body = json.dumps({\"item\": item,\"quantity\":str(self.agent.needed[item])})\n",
    "                        await self.send(msg)\n",
    "                        print(Provider+\" please \"+item)\n",
    "                        \n",
    "                    \n",
    "                    while len(propositions_list)<len(self.agent.Providers[item]):\n",
    "                        msg = await self.receive(timeout=10)\n",
    "                        propositions_list.append(msg)\n",
    "                    \n",
    "                    best_price=100000\n",
    "                    best_proposition=None\n",
    "                    for msg in propositions_list:\n",
    "                        if msg.get_metadata(\"sell\")==\"proposition\":\n",
    "                            print(\"Message received with content: {}\".format(msg.body))\n",
    "                            body = json.loads(msg.body)\n",
    "                            get_item = body[\"item\"]\n",
    "                            get_payment = int(body[\"payment\"])\n",
    "                            if get_payment<best_price:\n",
    "                                best_proposition=msg\n",
    "                                best_price=get_payment\n",
    "                                \n",
    "                    if best_proposition:\n",
    "                        msg = Message(to=str(best_proposition.sender))\n",
    "                        msg.set_metadata(\"buy\", \"payment\")\n",
    "                        if item in self.agent.needed.keys():\n",
    "                            msg.body = json.dumps({\"item\": item, \"quantity\":str(self.agent.needed[item]),\"payment\":str(best_price)})\n",
    "                            self.agent.euro-=best_price\n",
    "                            await self.send(msg)\n",
    "                            print(\"sending cash\")\n",
    "\n",
    "                            msg = await self.receive(timeout=10)\n",
    "\n",
    "                            body = json.loads(msg.body)\n",
    "                            get_item = body[\"item\"]\n",
    "                            get_quantity = int(body[\"quantity\"])\n",
    "\n",
    "                            self.agent.magazine[item]=self.agent.magazine[item]+get_quantity\n",
    "                            self.agent.Stock.notify(str(self.agent.jid),datetime.today(),self.agent.magazine)\n",
    "                            print(\"thank you \" + str(best_proposition.sender))\n",
    "\n",
    "\n",
    "    class SellBehav(CyclicBehaviour):\n",
    "        async def run(self):\n",
    "            await asyncio.sleep(1)\n",
    "            msg = await self.receive(timeout=10)\n",
    "            if msg:\n",
    "                get_type=msg.get_metadata(\"buy\")\n",
    "                body = json.loads(msg.body)\n",
    "                get_item = body[\"item\"]\n",
    "                get_quantity = int(body[\"quantity\"])\n",
    "                if get_type==\"order\":\n",
    "                    if self.agent.magazine[get_item]>=get_quantity:\n",
    "                        msg = Message(to=str(msg.sender))\n",
    "                        msg.set_metadata(\"sell\", \"proposition\")\n",
    "                        msg.body = json.dumps({\"item\": get_item,\"payment\":str(self.agent.item_prices[get_item]*get_quantity)})\n",
    "                        await self.send(msg)\n",
    "                        print(\"proposing\")\n",
    "                    else:\n",
    "                        msg = Message(to=str(msg.sender))\n",
    "                        msg.set_metadata(\"sell\", \"decline\")\n",
    "                        msg.body = json.dumps({\"item\": get_item, \"quantity\":0})\n",
    "                        await self.send(msg)\n",
    "                        print(\"no item now\")\n",
    "                        self.agent.start_production=True\n",
    "                        \n",
    "                if get_type==\"payment\":\n",
    "                    get_payment = int(body[\"payment\"])\n",
    "                    self.agent.euro+=get_payment\n",
    "                    self.agent.magazine[get_item]=self.agent.magazine[get_item]-get_quantity\n",
    "                    self.agent.Stock.notify(str(self.agent.jid),datetime.today(),self.agent.magazine)\n",
    "                    msg = Message(to=str(msg.sender))\n",
    "                    msg.set_metadata(\"sell\", \"product\")\n",
    "                    msg.body = json.dumps({\"item\": get_item,\"quantity\":str(get_quantity)})\n",
    "                    await self.send(msg)\n",
    "                    print(\"sending product\")\n",
    "                    \n",
    "            else:\n",
    "                print(\"waiting for sell\")\n",
    "\n",
    "    async def setup(self):\n",
    "        print(f\"MachineAgent started at {datetime.now().time()}\")\n",
    "        t_product = Template()\n",
    "        t_product.set_metadata(\"sell\", \"product\")\n",
    "        t_decline = Template()\n",
    "        t_decline.set_metadata(\"sell\", \"decline\")\n",
    "        t_proposition = Template()\n",
    "        t_proposition.set_metadata(\"sell\", \"proposition\")\n",
    "        t_order = Template()\n",
    "        t_order.set_metadata(\"buy\", \"order\")\n",
    "        t_payment = Template()\n",
    "        t_payment.set_metadata(\"buy\", \"payment\")\n",
    "        self.p = self.ProduceBehav()\n",
    "        self.add_behaviour(self.p)\n",
    "        self.b = self.BuyBehav()\n",
    "        self.add_behaviour(self.b,t_product | t_decline | t_proposition)\n",
    "        self.s = self.SellBehav()\n",
    "        self.add_behaviour(self.s,t_payment | t_order)"
   ]
  },
  {
   "cell_type": "code",
   "execution_count": 51,
   "metadata": {},
   "outputs": [],
   "source": [
    "class Stock():\n",
    "\n",
    "    def __init__(self,agent_magazines):\n",
    "        self.agent_magazines=agent_magazines\n",
    "\n",
    "    def notify(self,agent,timestamp,magazine):\n",
    "        self.agent_magazines[agent].append((timestamp,magazine.copy()))"
   ]
  },
  {
   "cell_type": "code",
   "execution_count": 52,
   "metadata": {},
   "outputs": [
    {
     "name": "stdout",
     "output_type": "stream",
     "text": [
      "MachineAgent started at 23:08:29.444535\n",
      "MachineAgent started at 23:08:30.121053\n",
      "MachineAgent started at 23:08:30.236161\n",
      "start_production: systemagent@jabbim.pl/2\n",
      "start_production: systemagent@jabbim.pl/3\n",
      "start_production: systemagent@jabbim.pl/3\n",
      "SystemAgent@jabbim.pl/2 please milk\n",
      "SystemAgent@jabbim.pl/3 please milk\n",
      "no item now\n",
      "proposing\n",
      "Message received with content: {\"item\": \"milk\", \"payment\": \"50\"}\n",
      "sending cash\n",
      "sending product\n",
      "thank you systemagent@jabbim.pl/3\n",
      "SystemAgent@jabbim.pl/2 please milk\n",
      "SystemAgent@jabbim.pl/3 please milk\n",
      "proposing\n",
      "start_production: systemagent@jabbim.pl/2\n",
      "start_production: systemagent@jabbim.pl/3\n",
      "start_production: systemagent@jabbim.pl/1\n",
      "proposing\n",
      "Message received with content: {\"item\": \"milk\", \"payment\": \"30\"}\n",
      "Message received with content: {\"item\": \"milk\", \"payment\": \"50\"}\n",
      "start_production: systemagent@jabbim.pl/3\n",
      "SystemAgent@jabbim.pl/2 please milk\n",
      "SystemAgent@jabbim.pl/3 please milk\n",
      "proposing\n",
      "proposing\n",
      "Message received with content: {\"item\": \"milk\", \"payment\": \"30\"}\n",
      "Message received with content: {\"item\": \"milk\", \"payment\": \"50\"}\n",
      "sending cash\n",
      "start_production: systemagent@jabbim.pl/2\n",
      "start_production: systemagent@jabbim.pl/3\n",
      "sending product\n",
      "thank you systemagent@jabbim.pl/2\n",
      "SystemAgent@jabbim.pl/2 please milk\n",
      "SystemAgent@jabbim.pl/3 please milk\n",
      "proposing\n",
      "waiting for sell\n",
      "start_production: systemagent@jabbim.pl/1\n",
      "proposing\n",
      "Message received with content: {\"item\": \"milk\", \"payment\": \"50\"}\n",
      "Message received with content: {\"item\": \"milk\", \"payment\": \"30\"}\n",
      "start_production: systemagent@jabbim.pl/3\n",
      "start_production: systemagent@jabbim.pl/2\n",
      "start_production: systemagent@jabbim.pl/3\n",
      "SystemAgent@jabbim.pl/2 please milk\n",
      "SystemAgent@jabbim.pl/3 please milk\n",
      "proposing\n",
      "proposing\n",
      "Message received with content: {\"item\": \"milk\", \"payment\": \"30\"}\n",
      "Message received with content: {\"item\": \"milk\", \"payment\": \"50\"}\n",
      "sending cash\n",
      "sending product\n",
      "thank you systemagent@jabbim.pl/2\n",
      "SystemAgent@jabbim.pl/2 please milk\n",
      "SystemAgent@jabbim.pl/3 please milk\n",
      "proposing\n",
      "start_production: systemagent@jabbim.pl/3\n",
      "start_production: systemagent@jabbim.pl/1\n",
      "proposing\n",
      "Message received with content: {\"item\": \"milk\", \"payment\": \"50\"}\n",
      "Message received with content: {\"item\": \"milk\", \"payment\": \"30\"}\n",
      "start_production: systemagent@jabbim.pl/2\n",
      "start_production: systemagent@jabbim.pl/3\n",
      "SystemAgent@jabbim.pl/2 please milk\n",
      "SystemAgent@jabbim.pl/3 please milk\n",
      "proposing\n",
      "proposing\n",
      "Message received with content: {\"item\": \"milk\", \"payment\": \"30\"}\n",
      "Message received with content: {\"item\": \"milk\", \"payment\": \"50\"}\n",
      "sending cash\n",
      "start_production: systemagent@jabbim.pl/3\n",
      "sending product\n",
      "thank you systemagent@jabbim.pl/2\n",
      "SystemAgent@jabbim.pl/2 please milk\n",
      "SystemAgent@jabbim.pl/3 please milk\n",
      "proposing\n",
      "start_production: systemagent@jabbim.pl/1\n",
      "proposing\n",
      "Message received with content: {\"item\": \"milk\", \"payment\": \"50\"}\n",
      "Message received with content: {\"item\": \"milk\", \"payment\": \"30\"}\n",
      "waiting for sell\n",
      "waiting for sell\n"
     ]
    }
   ],
   "source": [
    "if __name__ == \"__main__\":\n",
    "    stock=Stock({str.lower(jid+\"/1\"):[],str.lower(jid+\"/2\"):[],str.lower(jid+\"/3\"):[]})\n",
    "\n",
    "    agent1 = MachineAgent(jid+\"/1\", password, True,{\"coffe\":2,\"milk\":1},{\"cappucino\":1},{\"coffe\":[],\"milk\":[jid+\"/2\",jid+\"/3\"]},{\"coffe\":40,\"milk\":0,\"cappucino\":0},2,{},200,stock)\n",
    "    \n",
    "    agent2 = MachineAgent(jid+\"/2\", password, True,{\"magic\":0},{\"milk\":1},{\"milk\":[jid+\"/2\"]},{\"magic\":0,\"milk\":0},3,{\"milk\":30},0,stock)\n",
    "    \n",
    "    agent3 = MachineAgent(jid+\"/3\", password, True,{\"magic\":0},{\"milk\":1},{\"milk\":[jid+\"/3\"]},{\"magic\":0,\"milk\":0},1,{\"milk\":50},0,stock)\n",
    "  \n",
    "    \n",
    "    try:\n",
    "        future = agent1.start()\n",
    "        future.result()\n",
    "        agent2.start()\n",
    "        agent3.start()\n",
    "        time.sleep(20)\n",
    "    except Exception as e:\n",
    "        print(e)\n",
    "    finally:\n",
    "        agent1.stop()\n",
    "        agent2.stop()\n",
    "        agent3.stop()"
   ]
  },
  {
   "cell_type": "code",
   "execution_count": 49,
   "metadata": {},
   "outputs": [
    {
     "data": {
      "text/plain": [
       "True"
      ]
     },
     "execution_count": 49,
     "metadata": {},
     "output_type": "execute_result"
    }
   ],
   "source": [
    "\"milk\" in agent1.needed.keys()"
   ]
  },
  {
   "cell_type": "code",
   "execution_count": 54,
   "metadata": {},
   "outputs": [
    {
     "data": {
      "text/plain": [
       "60"
      ]
     },
     "execution_count": 54,
     "metadata": {},
     "output_type": "execute_result"
    }
   ],
   "source": [
    "agent1.euro"
   ]
  },
  {
   "cell_type": "code",
   "execution_count": 53,
   "metadata": {},
   "outputs": [
    {
     "data": {
      "text/plain": [
       "{'systemagent@jabbim.pl/1': [(datetime.datetime(2022, 5, 25, 23, 8, 34, 457455),\n",
       "   {'coffe': 40, 'milk': 1, 'cappucino': 0}),\n",
       "  (datetime.datetime(2022, 5, 25, 23, 8, 37, 453677),\n",
       "   {'coffe': 38, 'milk': 0, 'cappucino': 1}),\n",
       "  (datetime.datetime(2022, 5, 25, 23, 8, 39, 458870),\n",
       "   {'coffe': 38, 'milk': 1, 'cappucino': 1}),\n",
       "  (datetime.datetime(2022, 5, 25, 23, 8, 42, 455953),\n",
       "   {'coffe': 36, 'milk': 0, 'cappucino': 2}),\n",
       "  (datetime.datetime(2022, 5, 25, 23, 8, 44, 460470),\n",
       "   {'coffe': 36, 'milk': 1, 'cappucino': 2}),\n",
       "  (datetime.datetime(2022, 5, 25, 23, 8, 47, 458105),\n",
       "   {'coffe': 34, 'milk': 0, 'cappucino': 3}),\n",
       "  (datetime.datetime(2022, 5, 25, 23, 8, 49, 463056),\n",
       "   {'coffe': 34, 'milk': 1, 'cappucino': 3}),\n",
       "  (datetime.datetime(2022, 5, 25, 23, 8, 52, 461755),\n",
       "   {'coffe': 32, 'milk': 0, 'cappucino': 4})],\n",
       " 'systemagent@jabbim.pl/2': [(datetime.datetime(2022, 5, 25, 23, 8, 34, 123822),\n",
       "   {'magic': 0, 'milk': 1}),\n",
       "  (datetime.datetime(2022, 5, 25, 23, 8, 38, 124091), {'magic': 0, 'milk': 2}),\n",
       "  (datetime.datetime(2022, 5, 25, 23, 8, 39, 457303), {'magic': 0, 'milk': 1}),\n",
       "  (datetime.datetime(2022, 5, 25, 23, 8, 42, 124377), {'magic': 0, 'milk': 2}),\n",
       "  (datetime.datetime(2022, 5, 25, 23, 8, 44, 459361), {'magic': 0, 'milk': 1}),\n",
       "  (datetime.datetime(2022, 5, 25, 23, 8, 46, 124682), {'magic': 0, 'milk': 2}),\n",
       "  (datetime.datetime(2022, 5, 25, 23, 8, 49, 461455), {'magic': 0, 'milk': 1}),\n",
       "  (datetime.datetime(2022, 5, 25, 23, 8, 50, 126682),\n",
       "   {'magic': 0, 'milk': 2})],\n",
       " 'systemagent@jabbim.pl/3': [(datetime.datetime(2022, 5, 25, 23, 8, 32, 240396),\n",
       "   {'magic': 0, 'milk': 1}),\n",
       "  (datetime.datetime(2022, 5, 25, 23, 8, 34, 242162), {'magic': 0, 'milk': 2}),\n",
       "  (datetime.datetime(2022, 5, 25, 23, 8, 34, 456521), {'magic': 0, 'milk': 1}),\n",
       "  (datetime.datetime(2022, 5, 25, 23, 8, 36, 242408), {'magic': 0, 'milk': 2}),\n",
       "  (datetime.datetime(2022, 5, 25, 23, 8, 38, 242781), {'magic': 0, 'milk': 3}),\n",
       "  (datetime.datetime(2022, 5, 25, 23, 8, 40, 243024), {'magic': 0, 'milk': 4}),\n",
       "  (datetime.datetime(2022, 5, 25, 23, 8, 42, 243299), {'magic': 0, 'milk': 5}),\n",
       "  (datetime.datetime(2022, 5, 25, 23, 8, 44, 243598), {'magic': 0, 'milk': 6}),\n",
       "  (datetime.datetime(2022, 5, 25, 23, 8, 46, 243861), {'magic': 0, 'milk': 7}),\n",
       "  (datetime.datetime(2022, 5, 25, 23, 8, 48, 244411), {'magic': 0, 'milk': 8}),\n",
       "  (datetime.datetime(2022, 5, 25, 23, 8, 50, 246275),\n",
       "   {'magic': 0, 'milk': 9})]}"
      ]
     },
     "execution_count": 53,
     "metadata": {},
     "output_type": "execute_result"
    }
   ],
   "source": [
    "stock.agent_magazines"
   ]
  },
  {
   "cell_type": "code",
   "execution_count": null,
   "metadata": {},
   "outputs": [],
   "source": []
  },
  {
   "cell_type": "code",
   "execution_count": 1,
   "metadata": {},
   "outputs": [
    {
     "name": "stderr",
     "output_type": "stream",
     "text": [
      "<ipython-input-1-b336346859d7>:2: UserWarning: \n",
      "The dash_core_components package is deprecated. Please replace\n",
      "`import dash_core_components as dcc` with `from dash import dcc`\n",
      "  import dash_core_components as dcc\n",
      "<ipython-input-1-b336346859d7>:3: UserWarning: \n",
      "The dash_html_components package is deprecated. Please replace\n",
      "`import dash_html_components as html` with `from dash import html`\n",
      "  import dash_html_components as html\n"
     ]
    }
   ],
   "source": [
    "import dash\n",
    "import dash_core_components as dcc\n",
    "import dash_html_components as html\n",
    "import plotly.graph_objects as go"
   ]
  },
  {
   "cell_type": "code",
   "execution_count": 2,
   "metadata": {},
   "outputs": [
    {
     "name": "stdout",
     "output_type": "stream",
     "text": [
      "Dash is running on http://127.0.0.1:8050/\n",
      "\n",
      " * Serving Flask app \"__main__\" (lazy loading)\n",
      " * Environment: production\n",
      "\u001b[31m   WARNING: This is a development server. Do not use it in a production deployment.\u001b[0m\n",
      "\u001b[2m   Use a production WSGI server instead.\u001b[0m\n",
      " * Debug mode: off\n"
     ]
    },
    {
     "name": "stderr",
     "output_type": "stream",
     "text": [
      " * Running on http://127.0.0.1:8050/ (Press CTRL+C to quit)\n",
      "127.0.0.1 - - [25/May/2022 19:18:18] \"GET / HTTP/1.1\" 200 -\n",
      "127.0.0.1 - - [25/May/2022 19:18:18] \"GET /_dash-component-suites/dash/deps/polyfill@7.v2_4_1m1653499004.12.1.min.js HTTP/1.1\" 200 -\n",
      "127.0.0.1 - - [25/May/2022 19:18:18] \"GET /_dash-component-suites/dash/deps/react@16.v2_4_1m1653499004.14.0.min.js HTTP/1.1\" 200 -\n",
      "127.0.0.1 - - [25/May/2022 19:18:18] \"GET /_dash-component-suites/dash/deps/react-dom@16.v2_4_1m1653499004.14.0.min.js HTTP/1.1\" 200 -\n",
      "127.0.0.1 - - [25/May/2022 19:18:18] \"GET /_dash-component-suites/dash/deps/prop-types@15.v2_4_1m1653499004.8.1.min.js HTTP/1.1\" 200 -\n",
      "127.0.0.1 - - [25/May/2022 19:18:18] \"GET /_dash-component-suites/dash/html/dash_html_components.v2_0_3m1653499004.min.js HTTP/1.1\" 200 -\n",
      "127.0.0.1 - - [25/May/2022 19:18:18] \"GET /_dash-component-suites/dash/dcc/dash_core_components.v2_4_0m1653499004.js HTTP/1.1\" 200 -\n",
      "127.0.0.1 - - [25/May/2022 19:18:18] \"GET /_dash-component-suites/dash/dash_table/bundle.v5_1_2m1653499004.js HTTP/1.1\" 200 -\n",
      "127.0.0.1 - - [25/May/2022 19:18:18] \"GET /_dash-component-suites/dash/dash-renderer/build/dash_renderer.v2_4_1m1653499004.min.js HTTP/1.1\" 200 -\n",
      "127.0.0.1 - - [25/May/2022 19:18:18] \"GET /_dash-component-suites/dash/dcc/dash_core_components-shared.v2_4_0m1653499004.js HTTP/1.1\" 200 -\n",
      "127.0.0.1 - - [25/May/2022 19:18:19] \"GET /_dash-layout HTTP/1.1\" 200 -\n",
      "127.0.0.1 - - [25/May/2022 19:18:19] \"GET /_dash-dependencies HTTP/1.1\" 200 -\n",
      "127.0.0.1 - - [25/May/2022 19:18:19] \"GET /_favicon.ico?v=2.4.1 HTTP/1.1\" 200 -\n",
      "127.0.0.1 - - [25/May/2022 19:18:19] \"GET /_dash-component-suites/dash/dcc/async-graph.js HTTP/1.1\" 200 -\n",
      "127.0.0.1 - - [25/May/2022 19:18:19] \"GET /_dash-component-suites/dash/dcc/async-plotlyjs.js HTTP/1.1\" 200 -\n"
     ]
    }
   ],
   "source": [
    "es = ['https://codepen.io/chriddyp/pen/bWLwgP.css']\n",
    "app = dash.Dash(__name__, external_stylesheets=es)\n",
    "\n",
    "xs = list(range(30))\n",
    "ys = [10000 * 1.07**i for i in xs]\n",
    "\n",
    "fig = go.Figure(data=go.Scatter(x=xs, y=ys))\n",
    "fig.update_layout(xaxis_title='Years', yaxis_title='$')\n",
    "\n",
    "app.layout = html.Div(children=[\n",
    "    html.H1(children='Factory Project implemented using SPADE'),\n",
    "    dcc.Graph(figure=fig)])\n",
    "\n",
    "if __name__ == '__main__':\n",
    "  app.run(use_reloader=False)\n",
    "  #  app.run_server(debug=True)"
   ]
  },
  {
   "cell_type": "code",
   "execution_count": null,
   "metadata": {},
   "outputs": [],
   "source": []
  }
 ],
 "metadata": {
  "kernelspec": {
   "display_name": "Python 3",
   "language": "python",
   "name": "python3"
  },
  "language_info": {
   "codemirror_mode": {
    "name": "ipython",
    "version": 3
   },
   "file_extension": ".py",
   "mimetype": "text/x-python",
   "name": "python",
   "nbconvert_exporter": "python",
   "pygments_lexer": "ipython3",
   "version": "3.8.5"
  }
 },
 "nbformat": 4,
 "nbformat_minor": 4
}
