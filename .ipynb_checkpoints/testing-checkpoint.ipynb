{
 "cells": [
  {
   "cell_type": "code",
   "execution_count": 2,
   "metadata": {},
   "outputs": [
    {
     "name": "stderr",
     "output_type": "stream",
     "text": [
      "main failed\n",
      "Traceback (most recent call last):\n",
      "  File \"/home/olaf/anaconda3/lib/python3.8/site-packages/aioxmpp/node.py\", line 837, in _on_main_done\n",
      "    task.result()\n",
      "  File \"/home/olaf/anaconda3/lib/python3.8/site-packages/aioxmpp/node.py\", line 996, in _main\n",
      "    await self._main_impl()\n",
      "  File \"/home/olaf/anaconda3/lib/python3.8/site-packages/aioxmpp/node.py\", line 951, in _main_impl\n",
      "    tls_transport, xmlstream, features = await connect_xmlstream(\n",
      "  File \"/home/olaf/anaconda3/lib/python3.8/site-packages/aioxmpp/node.py\", line 390, in connect_xmlstream\n",
      "    result = await _try_options(\n",
      "  File \"/home/olaf/anaconda3/lib/python3.8/site-packages/aioxmpp/node.py\", line 267, in _try_options\n",
      "    features = await security_layer.negotiate_sasl(\n",
      "  File \"/home/olaf/anaconda3/lib/python3.8/site-packages/aioxmpp/security_layer.py\", line 1179, in negotiate_sasl\n",
      "    raise last_auth_error\n",
      "  File \"/home/olaf/anaconda3/lib/python3.8/site-packages/aioxmpp/security_layer.py\", line 1162, in negotiate_sasl\n",
      "    result = await sasl_provider.execute(\n",
      "  File \"/home/olaf/anaconda3/lib/python3.8/site-packages/aioxmpp/security_layer.py\", line 962, in execute\n",
      "    mechanism_worked = await self._execute(\n",
      "  File \"/home/olaf/anaconda3/lib/python3.8/site-packages/aioxmpp/security_layer.py\", line 840, in _execute\n",
      "    await mechanism.authenticate(sm, token)\n",
      "  File \"/home/olaf/anaconda3/lib/python3.8/site-packages/aiosasl/plain.py\", line 64, in authenticate\n",
      "    username, password = await self._credential_provider()\n",
      "  File \"/home/olaf/anaconda3/lib/python3.8/site-packages/aioxmpp/security_layer.py\", line 938, in credential_provider\n",
      "    raise aiosasl.AuthenticationFailure(\n",
      "aiosasl.common.AuthenticationFailure: user intervention: authentication failed: authentication aborted by user\n"
     ]
    },
    {
     "ename": "AuthenticationFailure",
     "evalue": "Could not authenticate the agent. Check user and password or use auto_register=True",
     "output_type": "error",
     "traceback": [
      "\u001b[0;31m---------------------------------------------------------------------------\u001b[0m",
      "\u001b[0;31mAuthenticationFailure\u001b[0m                     Traceback (most recent call last)",
      "\u001b[0;32m~/anaconda3/lib/python3.8/site-packages/spade/agent.py\u001b[0m in \u001b[0;36m_async_connect\u001b[0;34m(self)\u001b[0m\n\u001b[1;32m    163\u001b[0m             \u001b[0maenter\u001b[0m \u001b[0;34m=\u001b[0m \u001b[0mtype\u001b[0m\u001b[0;34m(\u001b[0m\u001b[0mself\u001b[0m\u001b[0;34m.\u001b[0m\u001b[0mconn_coro\u001b[0m\u001b[0;34m)\u001b[0m\u001b[0;34m.\u001b[0m\u001b[0m__aenter__\u001b[0m\u001b[0;34m(\u001b[0m\u001b[0mself\u001b[0m\u001b[0;34m.\u001b[0m\u001b[0mconn_coro\u001b[0m\u001b[0;34m)\u001b[0m\u001b[0;34m\u001b[0m\u001b[0;34m\u001b[0m\u001b[0m\n\u001b[0;32m--> 164\u001b[0;31m             \u001b[0mself\u001b[0m\u001b[0;34m.\u001b[0m\u001b[0mstream\u001b[0m \u001b[0;34m=\u001b[0m \u001b[0;32mawait\u001b[0m \u001b[0maenter\u001b[0m\u001b[0;34m\u001b[0m\u001b[0;34m\u001b[0m\u001b[0m\n\u001b[0m\u001b[1;32m    165\u001b[0m             \u001b[0mlogger\u001b[0m\u001b[0;34m.\u001b[0m\u001b[0minfo\u001b[0m\u001b[0;34m(\u001b[0m\u001b[0;34mf\"Agent {str(self.jid)} connected and authenticated.\"\u001b[0m\u001b[0;34m)\u001b[0m\u001b[0;34m\u001b[0m\u001b[0;34m\u001b[0m\u001b[0m\n",
      "\u001b[0;32m~/anaconda3/lib/python3.8/site-packages/aioxmpp/node.py\u001b[0m in \u001b[0;36m__aenter__\u001b[0;34m(self)\u001b[0m\n\u001b[1;32m   1650\u001b[0m         \u001b[0;32melse\u001b[0m\u001b[0;34m:\u001b[0m\u001b[0;34m\u001b[0m\u001b[0;34m\u001b[0m\u001b[0m\n\u001b[0;32m-> 1651\u001b[0;31m             \u001b[0;32mawait\u001b[0m \u001b[0mconn_future\u001b[0m\u001b[0;34m\u001b[0m\u001b[0;34m\u001b[0m\u001b[0m\n\u001b[0m\u001b[1;32m   1652\u001b[0m \u001b[0;34m\u001b[0m\u001b[0m\n",
      "\u001b[0;32m~/anaconda3/lib/python3.8/site-packages/aioxmpp/node.py\u001b[0m in \u001b[0;36m_on_main_done\u001b[0;34m(self, task)\u001b[0m\n\u001b[1;32m    836\u001b[0m         \u001b[0;32mtry\u001b[0m\u001b[0;34m:\u001b[0m\u001b[0;34m\u001b[0m\u001b[0;34m\u001b[0m\u001b[0m\n\u001b[0;32m--> 837\u001b[0;31m             \u001b[0mtask\u001b[0m\u001b[0;34m.\u001b[0m\u001b[0mresult\u001b[0m\u001b[0;34m(\u001b[0m\u001b[0;34m)\u001b[0m\u001b[0;34m\u001b[0m\u001b[0;34m\u001b[0m\u001b[0m\n\u001b[0m\u001b[1;32m    838\u001b[0m         \u001b[0;32mexcept\u001b[0m \u001b[0masyncio\u001b[0m\u001b[0;34m.\u001b[0m\u001b[0mCancelledError\u001b[0m\u001b[0;34m:\u001b[0m\u001b[0;34m\u001b[0m\u001b[0;34m\u001b[0m\u001b[0m\n",
      "\u001b[0;32m~/anaconda3/lib/python3.8/site-packages/aioxmpp/node.py\u001b[0m in \u001b[0;36m_main\u001b[0;34m(self)\u001b[0m\n\u001b[1;32m    995\u001b[0m                 \u001b[0;32mtry\u001b[0m\u001b[0;34m:\u001b[0m\u001b[0;34m\u001b[0m\u001b[0;34m\u001b[0m\u001b[0m\n\u001b[0;32m--> 996\u001b[0;31m                     \u001b[0;32mawait\u001b[0m \u001b[0mself\u001b[0m\u001b[0;34m.\u001b[0m\u001b[0m_main_impl\u001b[0m\u001b[0;34m(\u001b[0m\u001b[0;34m)\u001b[0m\u001b[0;34m\u001b[0m\u001b[0;34m\u001b[0m\u001b[0m\n\u001b[0m\u001b[1;32m    997\u001b[0m                 \u001b[0;32mexcept\u001b[0m \u001b[0merrors\u001b[0m\u001b[0;34m.\u001b[0m\u001b[0mStreamError\u001b[0m \u001b[0;32mas\u001b[0m \u001b[0merr\u001b[0m\u001b[0;34m:\u001b[0m\u001b[0;34m\u001b[0m\u001b[0;34m\u001b[0m\u001b[0m\n",
      "\u001b[0;32m~/anaconda3/lib/python3.8/site-packages/aioxmpp/node.py\u001b[0m in \u001b[0;36m_main_impl\u001b[0;34m(self)\u001b[0m\n\u001b[1;32m    950\u001b[0m \u001b[0;34m\u001b[0m\u001b[0m\n\u001b[0;32m--> 951\u001b[0;31m         tls_transport, xmlstream, features = await connect_xmlstream(\n\u001b[0m\u001b[1;32m    952\u001b[0m                 \u001b[0mself\u001b[0m\u001b[0;34m.\u001b[0m\u001b[0m_local_jid\u001b[0m\u001b[0;34m,\u001b[0m\u001b[0;34m\u001b[0m\u001b[0;34m\u001b[0m\u001b[0m\n",
      "\u001b[0;32m~/anaconda3/lib/python3.8/site-packages/aioxmpp/node.py\u001b[0m in \u001b[0;36mconnect_xmlstream\u001b[0;34m(jid, metadata, negotiation_timeout, override_peer, loop, logger)\u001b[0m\n\u001b[1;32m    389\u001b[0m \u001b[0;34m\u001b[0m\u001b[0m\n\u001b[0;32m--> 390\u001b[0;31m     result = await _try_options(\n\u001b[0m\u001b[1;32m    391\u001b[0m         \u001b[0moptions\u001b[0m\u001b[0;34m,\u001b[0m\u001b[0;34m\u001b[0m\u001b[0;34m\u001b[0m\u001b[0m\n",
      "\u001b[0;32m~/anaconda3/lib/python3.8/site-packages/aioxmpp/node.py\u001b[0m in \u001b[0;36m_try_options\u001b[0;34m(options, exceptions, jid, metadata, negotiation_timeout, loop, logger)\u001b[0m\n\u001b[1;32m    266\u001b[0m         \u001b[0;32mtry\u001b[0m\u001b[0;34m:\u001b[0m\u001b[0;34m\u001b[0m\u001b[0;34m\u001b[0m\u001b[0m\n\u001b[0;32m--> 267\u001b[0;31m             features = await security_layer.negotiate_sasl(\n\u001b[0m\u001b[1;32m    268\u001b[0m                 \u001b[0mtransport\u001b[0m\u001b[0;34m,\u001b[0m\u001b[0;34m\u001b[0m\u001b[0;34m\u001b[0m\u001b[0m\n",
      "\u001b[0;32m~/anaconda3/lib/python3.8/site-packages/aioxmpp/security_layer.py\u001b[0m in \u001b[0;36mnegotiate_sasl\u001b[0;34m(transport, xmlstream, sasl_providers, negotiation_timeout, jid, features)\u001b[0m\n\u001b[1;32m   1178\u001b[0m         \u001b[0;32mif\u001b[0m \u001b[0mlast_auth_error\u001b[0m\u001b[0;34m:\u001b[0m\u001b[0;34m\u001b[0m\u001b[0;34m\u001b[0m\u001b[0m\n\u001b[0;32m-> 1179\u001b[0;31m             \u001b[0;32mraise\u001b[0m \u001b[0mlast_auth_error\u001b[0m\u001b[0;34m\u001b[0m\u001b[0;34m\u001b[0m\u001b[0m\n\u001b[0m\u001b[1;32m   1180\u001b[0m         \u001b[0;32melse\u001b[0m\u001b[0;34m:\u001b[0m\u001b[0;34m\u001b[0m\u001b[0;34m\u001b[0m\u001b[0m\n",
      "\u001b[0;32m~/anaconda3/lib/python3.8/site-packages/aioxmpp/security_layer.py\u001b[0m in \u001b[0;36mnegotiate_sasl\u001b[0;34m(transport, xmlstream, sasl_providers, negotiation_timeout, jid, features)\u001b[0m\n\u001b[1;32m   1161\u001b[0m         \u001b[0;32mtry\u001b[0m\u001b[0;34m:\u001b[0m\u001b[0;34m\u001b[0m\u001b[0;34m\u001b[0m\u001b[0m\n\u001b[0;32m-> 1162\u001b[0;31m             result = await sasl_provider.execute(\n\u001b[0m\u001b[1;32m   1163\u001b[0m                 jid, features, xmlstream, transport)\n",
      "\u001b[0;32m~/anaconda3/lib/python3.8/site-packages/aioxmpp/security_layer.py\u001b[0m in \u001b[0;36mexecute\u001b[0;34m(self, client_jid, features, xmlstream, tls_transport)\u001b[0m\n\u001b[1;32m    961\u001b[0m                 \u001b[0;32mtry\u001b[0m\u001b[0;34m:\u001b[0m\u001b[0;34m\u001b[0m\u001b[0;34m\u001b[0m\u001b[0m\n\u001b[0;32m--> 962\u001b[0;31m                     mechanism_worked = await self._execute(\n\u001b[0m\u001b[1;32m    963\u001b[0m                         intf, mechanism, token)\n",
      "\u001b[0;32m~/anaconda3/lib/python3.8/site-packages/aioxmpp/security_layer.py\u001b[0m in \u001b[0;36m_execute\u001b[0;34m(self, intf, mechanism, token)\u001b[0m\n\u001b[1;32m    839\u001b[0m         \u001b[0;32mtry\u001b[0m\u001b[0;34m:\u001b[0m\u001b[0;34m\u001b[0m\u001b[0;34m\u001b[0m\u001b[0m\n\u001b[0;32m--> 840\u001b[0;31m             \u001b[0;32mawait\u001b[0m \u001b[0mmechanism\u001b[0m\u001b[0;34m.\u001b[0m\u001b[0mauthenticate\u001b[0m\u001b[0;34m(\u001b[0m\u001b[0msm\u001b[0m\u001b[0;34m,\u001b[0m \u001b[0mtoken\u001b[0m\u001b[0;34m)\u001b[0m\u001b[0;34m\u001b[0m\u001b[0;34m\u001b[0m\u001b[0m\n\u001b[0m\u001b[1;32m    841\u001b[0m             \u001b[0;32mreturn\u001b[0m \u001b[0;32mTrue\u001b[0m\u001b[0;34m\u001b[0m\u001b[0;34m\u001b[0m\u001b[0m\n",
      "\u001b[0;32m~/anaconda3/lib/python3.8/site-packages/aiosasl/plain.py\u001b[0m in \u001b[0;36mauthenticate\u001b[0;34m(self, sm, mechanism)\u001b[0m\n\u001b[1;32m     63\u001b[0m         \u001b[0mlogger\u001b[0m\u001b[0;34m.\u001b[0m\u001b[0minfo\u001b[0m\u001b[0;34m(\u001b[0m\u001b[0;34m\"attempting PLAIN mechanism\"\u001b[0m\u001b[0;34m)\u001b[0m\u001b[0;34m\u001b[0m\u001b[0;34m\u001b[0m\u001b[0m\n\u001b[0;32m---> 64\u001b[0;31m         \u001b[0musername\u001b[0m\u001b[0;34m,\u001b[0m \u001b[0mpassword\u001b[0m \u001b[0;34m=\u001b[0m \u001b[0;32mawait\u001b[0m \u001b[0mself\u001b[0m\u001b[0;34m.\u001b[0m\u001b[0m_credential_provider\u001b[0m\u001b[0;34m(\u001b[0m\u001b[0;34m)\u001b[0m\u001b[0;34m\u001b[0m\u001b[0;34m\u001b[0m\u001b[0m\n\u001b[0m\u001b[1;32m     65\u001b[0m         \u001b[0mencoded_username\u001b[0m \u001b[0;34m=\u001b[0m \u001b[0musername\u001b[0m\u001b[0;34m.\u001b[0m\u001b[0mencode\u001b[0m\u001b[0;34m(\u001b[0m\u001b[0;34m\"utf8\"\u001b[0m\u001b[0;34m)\u001b[0m\u001b[0;34m\u001b[0m\u001b[0;34m\u001b[0m\u001b[0m\n",
      "\u001b[0;32m~/anaconda3/lib/python3.8/site-packages/aioxmpp/security_layer.py\u001b[0m in \u001b[0;36mcredential_provider\u001b[0;34m()\u001b[0m\n\u001b[1;32m    937\u001b[0m                 \u001b[0mpassword_signalled_abort\u001b[0m \u001b[0;34m=\u001b[0m \u001b[0;32mTrue\u001b[0m\u001b[0;34m\u001b[0m\u001b[0;34m\u001b[0m\u001b[0m\n\u001b[0;32m--> 938\u001b[0;31m                 raise aiosasl.AuthenticationFailure(\n\u001b[0m\u001b[1;32m    939\u001b[0m                     \u001b[0;34m\"user intervention\"\u001b[0m\u001b[0;34m,\u001b[0m\u001b[0;34m\u001b[0m\u001b[0;34m\u001b[0m\u001b[0m\n",
      "\u001b[0;31mAuthenticationFailure\u001b[0m: user intervention: authentication failed: authentication aborted by user",
      "\nDuring handling of the above exception, another exception occurred:\n",
      "\u001b[0;31mAuthenticationFailure\u001b[0m                     Traceback (most recent call last)",
      "\u001b[0;32m<ipython-input-2-91d68e02d2cb>\u001b[0m in \u001b[0;36m<module>\u001b[0;34m\u001b[0m\n\u001b[1;32m     73\u001b[0m     \u001b[0mreceiveragent\u001b[0m \u001b[0;34m=\u001b[0m \u001b[0mReceiverAgent\u001b[0m\u001b[0;34m(\u001b[0m\u001b[0;34m\"SystemAgentxd@jabbim.pl\"\u001b[0m\u001b[0;34m,\u001b[0m \u001b[0;34m\"Secret777\"\u001b[0m\u001b[0;34m)\u001b[0m\u001b[0;34m\u001b[0m\u001b[0;34m\u001b[0m\u001b[0m\n\u001b[1;32m     74\u001b[0m     \u001b[0mfuture\u001b[0m \u001b[0;34m=\u001b[0m \u001b[0mreceiveragent\u001b[0m\u001b[0;34m.\u001b[0m\u001b[0mstart\u001b[0m\u001b[0;34m(\u001b[0m\u001b[0;34m)\u001b[0m\u001b[0;34m\u001b[0m\u001b[0;34m\u001b[0m\u001b[0m\n\u001b[0;32m---> 75\u001b[0;31m     \u001b[0mfuture\u001b[0m\u001b[0;34m.\u001b[0m\u001b[0mresult\u001b[0m\u001b[0;34m(\u001b[0m\u001b[0;34m)\u001b[0m \u001b[0;31m# wait for receiver agent to be prepared.\u001b[0m\u001b[0;34m\u001b[0m\u001b[0;34m\u001b[0m\u001b[0m\n\u001b[0m\u001b[1;32m     76\u001b[0m     \u001b[0msenderagent\u001b[0m \u001b[0;34m=\u001b[0m \u001b[0mSenderAgent\u001b[0m\u001b[0;34m(\u001b[0m\u001b[0;34m\"SystemAgent@jabbim.pl/2\"\u001b[0m\u001b[0;34m,\u001b[0m \u001b[0;34m\"Secret777\"\u001b[0m\u001b[0;34m)\u001b[0m\u001b[0;34m\u001b[0m\u001b[0;34m\u001b[0m\u001b[0m\n\u001b[1;32m     77\u001b[0m     \u001b[0msenderagent\u001b[0m\u001b[0;34m.\u001b[0m\u001b[0mstart\u001b[0m\u001b[0;34m(\u001b[0m\u001b[0;34m)\u001b[0m\u001b[0;34m\u001b[0m\u001b[0;34m\u001b[0m\u001b[0m\n",
      "\u001b[0;32m~/anaconda3/lib/python3.8/concurrent/futures/_base.py\u001b[0m in \u001b[0;36mresult\u001b[0;34m(self, timeout)\u001b[0m\n\u001b[1;32m    437\u001b[0m                 \u001b[0;32mraise\u001b[0m \u001b[0mCancelledError\u001b[0m\u001b[0;34m(\u001b[0m\u001b[0;34m)\u001b[0m\u001b[0;34m\u001b[0m\u001b[0;34m\u001b[0m\u001b[0m\n\u001b[1;32m    438\u001b[0m             \u001b[0;32melif\u001b[0m \u001b[0mself\u001b[0m\u001b[0;34m.\u001b[0m\u001b[0m_state\u001b[0m \u001b[0;34m==\u001b[0m \u001b[0mFINISHED\u001b[0m\u001b[0;34m:\u001b[0m\u001b[0;34m\u001b[0m\u001b[0;34m\u001b[0m\u001b[0m\n\u001b[0;32m--> 439\u001b[0;31m                 \u001b[0;32mreturn\u001b[0m \u001b[0mself\u001b[0m\u001b[0;34m.\u001b[0m\u001b[0m__get_result\u001b[0m\u001b[0;34m(\u001b[0m\u001b[0;34m)\u001b[0m\u001b[0;34m\u001b[0m\u001b[0;34m\u001b[0m\u001b[0m\n\u001b[0m\u001b[1;32m    440\u001b[0m             \u001b[0;32melse\u001b[0m\u001b[0;34m:\u001b[0m\u001b[0;34m\u001b[0m\u001b[0;34m\u001b[0m\u001b[0m\n\u001b[1;32m    441\u001b[0m                 \u001b[0;32mraise\u001b[0m \u001b[0mTimeoutError\u001b[0m\u001b[0;34m(\u001b[0m\u001b[0;34m)\u001b[0m\u001b[0;34m\u001b[0m\u001b[0;34m\u001b[0m\u001b[0m\n",
      "\u001b[0;32m~/anaconda3/lib/python3.8/concurrent/futures/_base.py\u001b[0m in \u001b[0;36m__get_result\u001b[0;34m(self)\u001b[0m\n\u001b[1;32m    386\u001b[0m     \u001b[0;32mdef\u001b[0m \u001b[0m__get_result\u001b[0m\u001b[0;34m(\u001b[0m\u001b[0mself\u001b[0m\u001b[0;34m)\u001b[0m\u001b[0;34m:\u001b[0m\u001b[0;34m\u001b[0m\u001b[0;34m\u001b[0m\u001b[0m\n\u001b[1;32m    387\u001b[0m         \u001b[0;32mif\u001b[0m \u001b[0mself\u001b[0m\u001b[0;34m.\u001b[0m\u001b[0m_exception\u001b[0m\u001b[0;34m:\u001b[0m\u001b[0;34m\u001b[0m\u001b[0;34m\u001b[0m\u001b[0m\n\u001b[0;32m--> 388\u001b[0;31m             \u001b[0;32mraise\u001b[0m \u001b[0mself\u001b[0m\u001b[0;34m.\u001b[0m\u001b[0m_exception\u001b[0m\u001b[0;34m\u001b[0m\u001b[0;34m\u001b[0m\u001b[0m\n\u001b[0m\u001b[1;32m    389\u001b[0m         \u001b[0;32melse\u001b[0m\u001b[0;34m:\u001b[0m\u001b[0;34m\u001b[0m\u001b[0;34m\u001b[0m\u001b[0m\n\u001b[1;32m    390\u001b[0m             \u001b[0;32mreturn\u001b[0m \u001b[0mself\u001b[0m\u001b[0;34m.\u001b[0m\u001b[0m_result\u001b[0m\u001b[0;34m\u001b[0m\u001b[0;34m\u001b[0m\u001b[0m\n",
      "\u001b[0;32m~/anaconda3/lib/python3.8/site-packages/spade/agent.py\u001b[0m in \u001b[0;36m_async_start\u001b[0;34m(self, auto_register)\u001b[0m\n\u001b[1;32m    124\u001b[0m         \u001b[0mself\u001b[0m\u001b[0;34m.\u001b[0m\u001b[0mpresence\u001b[0m \u001b[0;34m=\u001b[0m \u001b[0mPresenceManager\u001b[0m\u001b[0;34m(\u001b[0m\u001b[0mself\u001b[0m\u001b[0;34m)\u001b[0m\u001b[0;34m\u001b[0m\u001b[0;34m\u001b[0m\u001b[0m\n\u001b[1;32m    125\u001b[0m \u001b[0;34m\u001b[0m\u001b[0m\n\u001b[0;32m--> 126\u001b[0;31m         \u001b[0;32mawait\u001b[0m \u001b[0mself\u001b[0m\u001b[0;34m.\u001b[0m\u001b[0m_async_connect\u001b[0m\u001b[0;34m(\u001b[0m\u001b[0;34m)\u001b[0m\u001b[0;34m\u001b[0m\u001b[0;34m\u001b[0m\u001b[0m\n\u001b[0m\u001b[1;32m    127\u001b[0m \u001b[0;34m\u001b[0m\u001b[0m\n\u001b[1;32m    128\u001b[0m         \u001b[0;31m# register a message callback here\u001b[0m\u001b[0;34m\u001b[0m\u001b[0;34m\u001b[0m\u001b[0;34m\u001b[0m\u001b[0m\n",
      "\u001b[0;32m~/anaconda3/lib/python3.8/site-packages/spade/agent.py\u001b[0m in \u001b[0;36m_async_connect\u001b[0;34m(self)\u001b[0m\n\u001b[1;32m    165\u001b[0m             \u001b[0mlogger\u001b[0m\u001b[0;34m.\u001b[0m\u001b[0minfo\u001b[0m\u001b[0;34m(\u001b[0m\u001b[0;34mf\"Agent {str(self.jid)} connected and authenticated.\"\u001b[0m\u001b[0;34m)\u001b[0m\u001b[0;34m\u001b[0m\u001b[0;34m\u001b[0m\u001b[0m\n\u001b[1;32m    166\u001b[0m         \u001b[0;32mexcept\u001b[0m \u001b[0maiosasl\u001b[0m\u001b[0;34m.\u001b[0m\u001b[0mAuthenticationFailure\u001b[0m\u001b[0;34m:\u001b[0m\u001b[0;34m\u001b[0m\u001b[0;34m\u001b[0m\u001b[0m\n\u001b[0;32m--> 167\u001b[0;31m             raise AuthenticationFailure(\n\u001b[0m\u001b[1;32m    168\u001b[0m                 \u001b[0;34m\"Could not authenticate the agent. Check user and password or use auto_register=True\"\u001b[0m\u001b[0;34m\u001b[0m\u001b[0;34m\u001b[0m\u001b[0m\n\u001b[1;32m    169\u001b[0m             )\n",
      "\u001b[0;31mAuthenticationFailure\u001b[0m: Could not authenticate the agent. Check user and password or use auto_register=True"
     ]
    }
   ],
   "source": [
    "import time\n",
    "from spade.agent import Agent\n",
    "from spade.behaviour import OneShotBehaviour, CyclicBehaviour\n",
    "from spade.message import Message\n",
    "from spade.template import Template\n",
    "import asyncio\n",
    "\n",
    "class SenderAgent(Agent):\n",
    "    class InformBehav(OneShotBehaviour):\n",
    "        async def run(self):\n",
    "            print(\"InformBehav running\")\n",
    "            msg = Message(to=\"SystemAgent@jabbim.pl/1\")     # Instantiate the message\n",
    "            msg.set_metadata(\"performative\", \"inform\")  # Set the \"inform\" FIPA performative\n",
    "            msg.body = \"Hello from \"+str(self.agent.jid)                   # Set the message content\n",
    "\n",
    "            await self.send(msg)\n",
    "            print(\"Message sent!\")\n",
    "\n",
    "            # stop agent from behaviour\n",
    "            await self.agent.stop()\n",
    "\n",
    "    async def setup(self):\n",
    "        print(\"SenderAgent started\")\n",
    "        b = self.InformBehav()\n",
    "        self.add_behaviour(b)\n",
    "\n",
    "class ReceiverAgent(Agent):\n",
    "    class RecvBehav(CyclicBehaviour):\n",
    "        async def run(self):\n",
    "            print(\"RecvBehav running\")\n",
    "\n",
    "            msg = await self.receive(timeout=10) # wait for a message for 10 seconds\n",
    "            if msg:\n",
    "                print(\"Message received with content: {}\".format(msg.body))\n",
    "            else:\n",
    "                print(\"Did not received any message after 10 seconds\")\n",
    "\n",
    "            # stop agent from behaviour\n",
    "            await asyncio.sleep(1)\n",
    "\n",
    "    async def setup(self):\n",
    "        print(\"ReceiverAgent started\")\n",
    "        b = self.RecvBehav()\n",
    "        template = Template()\n",
    "        template.set_metadata(\"performative\", \"inform\")\n",
    "        self.add_behaviour(b, template)\n",
    "\n",
    "        \n",
    "    class RecvBehav2(CyclicBehaviour):\n",
    "        async def run(self):\n",
    "            print(\"RecvBehav2 running\")\n",
    "\n",
    "            msg = await self.receive(timeout=10) # wait for a message for 10 seconds\n",
    "            if msg:\n",
    "                print(\"Message2 received with content: {}\".format(msg.body))\n",
    "            else:\n",
    "                print(\"Did not received any message after 10 seconds\")\n",
    "\n",
    "            # stop agent from behaviour\n",
    "            await asyncio.sleep(1)\n",
    "\n",
    "    async def setup(self):\n",
    "        print(\"ReceiverAgent started\")\n",
    "        b = self.RecvBehav()\n",
    "        b2 = self.RecvBehav2()\n",
    "        template = Template()\n",
    "        template.set_metadata(\"performative\", \"inform\")\n",
    "        self.add_behaviour(b, template)\n",
    "        self.add_behaviour(b2, template)\n",
    "\n",
    "\n",
    "if __name__ == \"__main__\":\n",
    "    receiveragent = ReceiverAgent(\"SystemAgent@jabbim.pl\", \"Secret777\")\n",
    "    future = receiveragent.start()\n",
    "    future.result() # wait for receiver agent to be prepared.\n",
    "    senderagent = SenderAgent(\"SystemAgent@jabbim.pl/2\", \"Secret777\")\n",
    "    senderagent.start()\n",
    "    senderagent2 = SenderAgent(\"SystemAgent@jabbim.pl/3\", \"Secret777\")\n",
    "    senderagent2.start()\n",
    "    senderagent3 = SenderAgent(\"SystemAgent@jabbim.pl/4\", \"Secret777\")\n",
    "    senderagent3.start()\n",
    "\n",
    "    while receiveragent.is_alive():\n",
    "        try:\n",
    "            time.sleep(1)\n",
    "        except KeyboardInterrupt:\n",
    "            senderagent.stop()\n",
    "            receiveragent.stop()\n",
    "            break\n",
    "    print(\"Agents finished\")\n"
   ]
  },
  {
   "cell_type": "code",
   "execution_count": 26,
   "metadata": {},
   "outputs": [
    {
     "name": "stdout",
     "output_type": "stream",
     "text": [
      "ReceiverAgent started\n",
      "RecvBehav running\n",
      "SenderAgent started\n",
      "InformBehav running\n",
      "Message sent!\n",
      "Message received with content: Hello World\n",
      "Agents finished\n"
     ]
    }
   ],
   "source": [
    "import time\n",
    "from spade.agent import Agent\n",
    "from spade.behaviour import OneShotBehaviour\n",
    "from spade.message import Message\n",
    "from spade.template import Template\n",
    "\n",
    "\n",
    "class SenderAgent(Agent):\n",
    "    class InformBehav(OneShotBehaviour):\n",
    "        async def run(self):\n",
    "            print(\"InformBehav running\")\n",
    "            msg = Message(to=\"SystemAgent@jabbim.pl/1\")     # Instantiate the message\n",
    "            msg.set_metadata(\"xd\", \"inform\")  # Set the \"inform\" FIPA xd\n",
    "            msg.body = \"Hello World\"                    # Set the message content\n",
    "\n",
    "            await self.send(msg)\n",
    "            print(\"Message sent!\")\n",
    "\n",
    "            # stop agent from behaviour\n",
    "            await self.agent.stop()\n",
    "\n",
    "    async def setup(self):\n",
    "        print(\"SenderAgent started\")\n",
    "        b = self.InformBehav()\n",
    "        self.add_behaviour(b)\n",
    "\n",
    "class ReceiverAgent(Agent):\n",
    "    class RecvBehav(OneShotBehaviour):\n",
    "        async def run(self):\n",
    "            print(\"RecvBehav running\")\n",
    "\n",
    "            msg = await self.receive(timeout=10) # wait for a message for 10 seconds\n",
    "            if msg:\n",
    "                print(\"Message received with content: {}\".format(msg.body))\n",
    "            else:\n",
    "                print(\"Did not received any message after 10 seconds\")\n",
    "\n",
    "            # stop agent from behaviour\n",
    "            await self.agent.stop()\n",
    "\n",
    "    async def setup(self):\n",
    "        print(\"ReceiverAgent started\")\n",
    "        b = self.RecvBehav()\n",
    "        template = Template()\n",
    "        template.metadata={\"xd\": \"inform\"}\n",
    "        template2 = Template()\n",
    "        template2.metadata={\"xd2\": \"inform2\"}\n",
    "        self.add_behaviour(b, template | template2)\n",
    "\n",
    "\n",
    "\n",
    "if __name__ == \"__main__\":\n",
    "    receiveragent = ReceiverAgent(\"SystemAgent@jabbim.pl/1\", \"Secret777\")\n",
    "    future = receiveragent.start()\n",
    "    future.result() # wait for receiver agent to be prepared.\n",
    "    senderagent = SenderAgent(\"SystemAgent@jabbim.pl/2\", \"Secret777\")\n",
    "    senderagent.start()\n",
    "\n",
    "    while receiveragent.is_alive():\n",
    "        try:\n",
    "            time.sleep(1)\n",
    "        except KeyboardInterrupt:\n",
    "            senderagent.stop()\n",
    "            receiveragent.stop()\n",
    "            break\n",
    "    print(\"Agents finished\")"
   ]
  },
  {
   "cell_type": "code",
   "execution_count": 8,
   "metadata": {},
   "outputs": [],
   "source": [
    "template = Template()\n",
    "template.set_metadata(\"performative\", \"inform\")"
   ]
  },
  {
   "cell_type": "code",
   "execution_count": 23,
   "metadata": {},
   "outputs": [
    {
     "data": {
      "text/plain": [
       "<Future at 0x7ff846423640 state=pending>"
      ]
     },
     "execution_count": 23,
     "metadata": {},
     "output_type": "execute_result"
    }
   ],
   "source": [
    "senderagent.stop()\n",
    "receiveragent.stop()"
   ]
  },
  {
   "cell_type": "code",
   "execution_count": 17,
   "metadata": {},
   "outputs": [],
   "source": [
    "msg = Message(to=\"SystemAgent@jabbim.pl/1\")     # Instantiate the message\n",
    "msg.set_metadata(\"xd\", \"inform\")"
   ]
  },
  {
   "cell_type": "code",
   "execution_count": 20,
   "metadata": {},
   "outputs": [
    {
     "data": {
      "text/plain": [
       "'inform'"
      ]
     },
     "execution_count": 20,
     "metadata": {},
     "output_type": "execute_result"
    }
   ],
   "source": [
    "msg.get_metadata(\"xd\")"
   ]
  },
  {
   "cell_type": "code",
   "execution_count": null,
   "metadata": {},
   "outputs": [],
   "source": []
  }
 ],
 "metadata": {
  "kernelspec": {
   "display_name": "Python 3",
   "language": "python",
   "name": "python3"
  },
  "language_info": {
   "codemirror_mode": {
    "name": "ipython",
    "version": 3
   },
   "file_extension": ".py",
   "mimetype": "text/x-python",
   "name": "python",
   "nbconvert_exporter": "python",
   "pygments_lexer": "ipython3",
   "version": "3.8.5"
  }
 },
 "nbformat": 4,
 "nbformat_minor": 4
}
