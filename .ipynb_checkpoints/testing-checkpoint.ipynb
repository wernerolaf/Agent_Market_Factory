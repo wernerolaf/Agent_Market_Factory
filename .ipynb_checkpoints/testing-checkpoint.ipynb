{
 "cells": [
  {
   "cell_type": "code",
   "execution_count": 15,
   "metadata": {},
   "outputs": [
    {
     "name": "stdout",
     "output_type": "stream",
     "text": [
      "ReceiverAgent started\n",
      "RecvBehav running\n",
      "RecvBehav2 running\n",
      "SenderAgent started\n",
      "InformBehav running\n",
      "Message sent!\n",
      "Message received with content: Hello from systemagent@jabbim.pl/3\n",
      "Message2 received with content: Hello from systemagent@jabbim.pl/3\n",
      "SenderAgent started\n",
      "InformBehav running\n",
      "Message sent!\n",
      "SenderAgent started\n",
      "InformBehav running\n",
      "Message sent!\n",
      "RecvBehav running\n",
      "RecvBehav2 running\n",
      "Message received with content: Hello from systemagent@jabbim.pl/2\n",
      "Message2 received with content: Hello from systemagent@jabbim.pl/2\n",
      "RecvBehav running\n",
      "RecvBehav2 running\n",
      "Message received with content: Hello from systemagent@jabbim.pl/4\n",
      "Message2 received with content: Hello from systemagent@jabbim.pl/4\n",
      "RecvBehav running\n",
      "RecvBehav2 running\n",
      "Did not received any message after 10 seconds\n",
      "Did not received any message after 10 seconds\n",
      "RecvBehav running\n",
      "RecvBehav2 running\n",
      "Agents finished\n"
     ]
    }
   ],
   "source": [
    "import time\n",
    "from spade.agent import Agent\n",
    "from spade.behaviour import OneShotBehaviour, CyclicBehaviour\n",
    "from spade.message import Message\n",
    "from spade.template import Template\n",
    "import asyncio\n",
    "\n",
    "class SenderAgent(Agent):\n",
    "    class InformBehav(OneShotBehaviour):\n",
    "        async def run(self):\n",
    "            print(\"InformBehav running\")\n",
    "            msg = Message(to=\"SystemAgent@jabbim.pl/1\")     # Instantiate the message\n",
    "            msg.set_metadata(\"performative\", \"inform\")  # Set the \"inform\" FIPA performative\n",
    "            msg.body = \"Hello from \"+str(self.agent.jid)                   # Set the message content\n",
    "\n",
    "            await self.send(msg)\n",
    "            print(\"Message sent!\")\n",
    "\n",
    "            # stop agent from behaviour\n",
    "            await self.agent.stop()\n",
    "\n",
    "    async def setup(self):\n",
    "        print(\"SenderAgent started\")\n",
    "        b = self.InformBehav()\n",
    "        self.add_behaviour(b)\n",
    "\n",
    "class ReceiverAgent(Agent):\n",
    "    class RecvBehav(CyclicBehaviour):\n",
    "        async def run(self):\n",
    "            print(\"RecvBehav running\")\n",
    "\n",
    "            msg = await self.receive(timeout=10) # wait for a message for 10 seconds\n",
    "            if msg:\n",
    "                print(\"Message received with content: {}\".format(msg.body))\n",
    "            else:\n",
    "                print(\"Did not received any message after 10 seconds\")\n",
    "\n",
    "            # stop agent from behaviour\n",
    "            await asyncio.sleep(1)\n",
    "\n",
    "    async def setup(self):\n",
    "        print(\"ReceiverAgent started\")\n",
    "        b = self.RecvBehav()\n",
    "        template = Template()\n",
    "        template.set_metadata(\"performative\", \"inform\")\n",
    "        self.add_behaviour(b, template)\n",
    "\n",
    "        \n",
    "    class RecvBehav2(CyclicBehaviour):\n",
    "        async def run(self):\n",
    "            print(\"RecvBehav2 running\")\n",
    "\n",
    "            msg = await self.receive(timeout=10) # wait for a message for 10 seconds\n",
    "            if msg:\n",
    "                print(\"Message2 received with content: {}\".format(msg.body))\n",
    "            else:\n",
    "                print(\"Did not received any message after 10 seconds\")\n",
    "\n",
    "            # stop agent from behaviour\n",
    "            await asyncio.sleep(1)\n",
    "\n",
    "    async def setup(self):\n",
    "        print(\"ReceiverAgent started\")\n",
    "        b = self.RecvBehav()\n",
    "        b2 = self.RecvBehav2()\n",
    "        template = Template()\n",
    "        template.set_metadata(\"performative\", \"inform\")\n",
    "        self.add_behaviour(b, template)\n",
    "        self.add_behaviour(b2, template)\n",
    "\n",
    "\n",
    "if __name__ == \"__main__\":\n",
    "    receiveragent = ReceiverAgent(\"SystemAgent@jabbim.pl/1\", \"Secret777\")\n",
    "    future = receiveragent.start()\n",
    "    future.result() # wait for receiver agent to be prepared.\n",
    "    senderagent = SenderAgent(\"SystemAgent@jabbim.pl/2\", \"Secret777\")\n",
    "    senderagent.start()\n",
    "    senderagent2 = SenderAgent(\"SystemAgent@jabbim.pl/3\", \"Secret777\")\n",
    "    senderagent2.start()\n",
    "    senderagent3 = SenderAgent(\"SystemAgent@jabbim.pl/4\", \"Secret777\")\n",
    "    senderagent3.start()\n",
    "\n",
    "    while receiveragent.is_alive():\n",
    "        try:\n",
    "            time.sleep(1)\n",
    "        except KeyboardInterrupt:\n",
    "            senderagent.stop()\n",
    "            receiveragent.stop()\n",
    "            break\n",
    "    print(\"Agents finished\")\n"
   ]
  },
  {
   "cell_type": "code",
   "execution_count": 26,
   "metadata": {},
   "outputs": [
    {
     "name": "stdout",
     "output_type": "stream",
     "text": [
      "ReceiverAgent started\n",
      "RecvBehav running\n",
      "SenderAgent started\n",
      "InformBehav running\n",
      "Message sent!\n",
      "Message received with content: Hello World\n",
      "Agents finished\n"
     ]
    }
   ],
   "source": [
    "import time\n",
    "from spade.agent import Agent\n",
    "from spade.behaviour import OneShotBehaviour\n",
    "from spade.message import Message\n",
    "from spade.template import Template\n",
    "\n",
    "\n",
    "class SenderAgent(Agent):\n",
    "    class InformBehav(OneShotBehaviour):\n",
    "        async def run(self):\n",
    "            print(\"InformBehav running\")\n",
    "            msg = Message(to=\"SystemAgent@jabbim.pl/1\")     # Instantiate the message\n",
    "            msg.set_metadata(\"xd\", \"inform\")  # Set the \"inform\" FIPA xd\n",
    "            msg.body = \"Hello World\"                    # Set the message content\n",
    "\n",
    "            await self.send(msg)\n",
    "            print(\"Message sent!\")\n",
    "\n",
    "            # stop agent from behaviour\n",
    "            await self.agent.stop()\n",
    "\n",
    "    async def setup(self):\n",
    "        print(\"SenderAgent started\")\n",
    "        b = self.InformBehav()\n",
    "        self.add_behaviour(b)\n",
    "\n",
    "class ReceiverAgent(Agent):\n",
    "    class RecvBehav(OneShotBehaviour):\n",
    "        async def run(self):\n",
    "            print(\"RecvBehav running\")\n",
    "\n",
    "            msg = await self.receive(timeout=10) # wait for a message for 10 seconds\n",
    "            if msg:\n",
    "                print(\"Message received with content: {}\".format(msg.body))\n",
    "            else:\n",
    "                print(\"Did not received any message after 10 seconds\")\n",
    "\n",
    "            # stop agent from behaviour\n",
    "            await self.agent.stop()\n",
    "\n",
    "    async def setup(self):\n",
    "        print(\"ReceiverAgent started\")\n",
    "        b = self.RecvBehav()\n",
    "        template = Template()\n",
    "        template.metadata={\"xd\": \"inform\"}\n",
    "        template2 = Template()\n",
    "        template2.metadata={\"xd2\": \"inform2\"}\n",
    "        self.add_behaviour(b, template | template2)\n",
    "\n",
    "\n",
    "\n",
    "if __name__ == \"__main__\":\n",
    "    receiveragent = ReceiverAgent(\"SystemAgent@jabbim.pl/1\", \"Secret777\")\n",
    "    future = receiveragent.start()\n",
    "    future.result() # wait for receiver agent to be prepared.\n",
    "    senderagent = SenderAgent(\"SystemAgent@jabbim.pl/2\", \"Secret777\")\n",
    "    senderagent.start()\n",
    "\n",
    "    while receiveragent.is_alive():\n",
    "        try:\n",
    "            time.sleep(1)\n",
    "        except KeyboardInterrupt:\n",
    "            senderagent.stop()\n",
    "            receiveragent.stop()\n",
    "            break\n",
    "    print(\"Agents finished\")"
   ]
  },
  {
   "cell_type": "code",
   "execution_count": 8,
   "metadata": {},
   "outputs": [],
   "source": [
    "template = Template()\n",
    "template.set_metadata(\"performative\", \"inform\")"
   ]
  },
  {
   "cell_type": "code",
   "execution_count": 23,
   "metadata": {},
   "outputs": [
    {
     "data": {
      "text/plain": [
       "<Future at 0x7ff846423640 state=pending>"
      ]
     },
     "execution_count": 23,
     "metadata": {},
     "output_type": "execute_result"
    }
   ],
   "source": [
    "senderagent.stop()\n",
    "receiveragent.stop()"
   ]
  },
  {
   "cell_type": "code",
   "execution_count": 17,
   "metadata": {},
   "outputs": [],
   "source": [
    "msg = Message(to=\"SystemAgent@jabbim.pl/1\")     # Instantiate the message\n",
    "msg.set_metadata(\"xd\", \"inform\")"
   ]
  },
  {
   "cell_type": "code",
   "execution_count": 20,
   "metadata": {},
   "outputs": [
    {
     "data": {
      "text/plain": [
       "'inform'"
      ]
     },
     "execution_count": 20,
     "metadata": {},
     "output_type": "execute_result"
    }
   ],
   "source": [
    "msg.get_metadata(\"xd\")"
   ]
  },
  {
   "cell_type": "code",
   "execution_count": null,
   "metadata": {},
   "outputs": [],
   "source": []
  }
 ],
 "metadata": {
  "kernelspec": {
   "display_name": "Python 3",
   "language": "python",
   "name": "python3"
  },
  "language_info": {
   "codemirror_mode": {
    "name": "ipython",
    "version": 3
   },
   "file_extension": ".py",
   "mimetype": "text/x-python",
   "name": "python",
   "nbconvert_exporter": "python",
   "pygments_lexer": "ipython3",
   "version": "3.8.5"
  }
 },
 "nbformat": 4,
 "nbformat_minor": 4
}
